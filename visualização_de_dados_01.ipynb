{
 "cells": [
  {
   "cell_type": "markdown",
   "metadata": {
    "colab_type": "text",
    "id": "GgUHLmxk7Ga5"
   },
   "source": [
    "# Minerando Dados  - ** Visualização de Dados **"
   ]
  },
  {
   "cell_type": "markdown",
   "metadata": {
    "colab_type": "text",
    "id": "t_ak8TC67Ga7"
   },
   "source": [
    "**Trabalhando com Matplotlib**"
   ]
  },
  {
   "cell_type": "markdown",
   "metadata": {
    "colab_type": "text",
    "id": "quprP4gvB-46"
   },
   "source": [
    "* Ideal para plotagem de gráficos **simples**.\n",
    "* Aumenta a produtividade do Cientista de dados.\n",
    "* Fornece uma interfaçe próxima do Matlab, o que é interessante para gráficos com expressões matemáticas.\n",
    "* A maior desvantagem é o **layout**.\n",
    "\n"
   ]
  },
  {
   "cell_type": "markdown",
   "metadata": {
    "colab_type": "text",
    "id": "5wwF0C_4Ads6"
   },
   "source": [
    "**Quando utilizar?**\n",
    "\n",
    "* Útil para análise e exploração de dados."
   ]
  },
  {
   "cell_type": "markdown",
   "metadata": {
    "colab_type": "text",
    "id": "NwOJiIGaAyO5"
   },
   "source": [
    "**Instalação da Biblioteca**"
   ]
  },
  {
   "cell_type": "markdown",
   "metadata": {
    "colab_type": "text",
    "id": "AI3FfbTs7Ga8"
   },
   "source": [
    "* Caso não esteja usando anaconda instale o matplotlib com o gerenciador de pacotes pip ou usando o conda. Exemplo:"
   ]
  },
  {
   "cell_type": "code",
   "execution_count": null,
   "metadata": {
    "colab": {},
    "colab_type": "code",
    "id": "jkgomcoe7Ga9"
   },
   "outputs": [],
   "source": [
    "!pip install matplotlib"
   ]
  },
  {
   "cell_type": "code",
   "execution_count": null,
   "metadata": {
    "colab": {},
    "colab_type": "code",
    "id": "__v7nqAT7GbB"
   },
   "outputs": [],
   "source": [
    "!conda install matplotlib"
   ]
  },
  {
   "cell_type": "markdown",
   "metadata": {
    "colab": {},
    "colab_type": "code",
    "id": "60CC3sv57GbJ"
   },
   "source": [
    "**Se estiver usando o Anaconda, o matplotlib já está disponível por padrão**"
   ]
  },
  {
   "cell_type": "code",
   "execution_count": 4,
   "metadata": {
    "colab": {},
    "colab_type": "code",
    "id": "K3qvJhm7g4rV"
   },
   "outputs": [],
   "source": [
    "# Importando o pyplot\n",
    "from matplotlib import pyplot as plt"
   ]
  },
  {
   "cell_type": "markdown",
   "metadata": {
    "colab_type": "text",
    "id": "tJLOBrE57GbP"
   },
   "source": [
    "**Define que os gráficos serem plotados na célula e podem se ajustados**"
   ]
  },
  {
   "cell_type": "code",
   "execution_count": 2,
   "metadata": {
    "colab": {},
    "colab_type": "code",
    "id": "2XCgJAXj7GbQ"
   },
   "outputs": [],
   "source": [
    "%matplotlib notebook"
   ]
  },
  {
   "cell_type": "markdown",
   "metadata": {
    "colab_type": "text",
    "id": "Fry-dpbL7GbT"
   },
   "source": [
    "**Define que os gráficos ficaram fixos na célula do jupyter notebook**"
   ]
  },
  {
   "cell_type": "code",
   "execution_count": null,
   "metadata": {
    "colab": {},
    "colab_type": "code",
    "id": "1SMcfIaU7GbU"
   },
   "outputs": [],
   "source": [
    "%matplotlib inline"
   ]
  },
  {
   "cell_type": "markdown",
   "metadata": {
    "colab_type": "text",
    "id": "T_2t6RI17GbY"
   },
   "source": [
    "**Plotando gráfico de linhas simples **"
   ]
  },
  {
   "cell_type": "code",
   "execution_count": null,
   "metadata": {
    "colab_type": "text",
    "id": "NZ14qKsrDNuK"
   },
   "outputs": [],
   "source": [
    "from IPython.display import Image\n",
    "Image(\"anatomia.png\")"
   ]
  },
  {
   "cell_type": "markdown",
   "metadata": {},
   "source": [
    "## Gráfico de Linhas"
   ]
  },
  {
   "cell_type": "markdown",
   "metadata": {
    "colab_type": "text",
    "id": "4pwOzZsC7GbZ"
   },
   "source": [
    "* Gráfico normalmente utilizado para visualização de dados em uma linha do tempo.\n",
    "* Normalmente utilizado com eixo X relacionado a dados temporais e eixo Y a dados quantitativos.\n",
    "* Cuidado ao plotar várias linhas, a leitura pode ficar prejudicada."
   ]
  },
  {
   "cell_type": "code",
   "execution_count": 3,
   "metadata": {
    "colab": {
     "base_uri": "https://localhost:8080/",
     "height": 364
    },
    "colab_type": "code",
    "id": "vHYaR6p1Orb6",
    "outputId": "b092c585-8957-40c4-a7c0-68ba7ed7eedb"
   },
   "outputs": [
    {
     "data": {
      "image/png": "[encoded data removed]",
      "text/plain": [
       "<Figure size 432x288 with 1 Axes>"
      ]
     },
     "metadata": {
      "needs_background": "light"
     },
     "output_type": "display_data"
    }
   ],
   "source": [
    "%matplotlib inline\n",
    "# Eixo_x, Eixo_y\n",
    "plt.plot([1,2,3,4],[1,4,9,16])\n",
    "plt.show()"
   ]
  },
  {
   "cell_type": "markdown",
   "metadata": {
    "colab_type": "text",
    "id": "IEbO73Vn7Gbh"
   },
   "source": [
    "**Definindo label aos eixos**"
   ]
  },
  {
   "cell_type": "code",
   "execution_count": 5,
   "metadata": {
    "colab": {
     "base_uri": "https://localhost:8080/",
     "height": 347
    },
    "colab_type": "code",
    "id": "02vdY_9Zny05",
    "outputId": "269af034-dbe9-4d46-d7ee-2522851618bb"
   },
   "outputs": [
    {
     "data": {
      "application/javascript": [
       "/* Put everything inside the global mpl namespace */\n",
       "window.mpl = {};\n",
       "\n",
       "\n",
       "mpl.get_websocket_type = function() {\n",
       "    if (typeof(WebSocket) !== 'undefined') {\n",
       "        return WebSocket;\n",
       "    } else if (typeof(MozWebSocket) !== 'undefined') {\n",
       "        return MozWebSocket;\n",
       "    } else {\n",
       "        alert('Your browser does not have WebSocket support. ' +\n",
       "              'Please try Chrome, Safari or Firefox ≥ 6. ' +\n",
       "              'Firefox 4 and 5 are also supported but you ' +\n",
       "              'have to enable WebSockets in about:config.');\n",
       "    };\n",
       "}\n",
       "\n",
       "mpl.figure = function(figure_id, websocket, ondownload, parent_element) {\n",
       "    this.id = figure_id;\n",
       "\n",
       "    this.ws = websocket;\n",
       "\n",
       "    this.supports_binary = (this.ws.binaryType != undefined);\n",
       "\n",
       "    if (!this.supports_binary) {\n",
       "        var warnings = document.getElementById(\"mpl-warnings\");\n",
       "        if (warnings) {\n",
       "            warnings.style.display = 'block';\n",
       "            warnings.textContent = (\n",
       "                \"This browser does not support binary websocket messages. \" +\n",
       "                    \"Performance may be slow.\");\n",
       "        }\n",
       "    }\n",
       "\n",
       "    this.imageObj = new Image();\n",
       "\n",
       "    this.context = undefined;\n",
       "    this.message = undefined;\n",
       "    this.canvas = undefined;\n",
       "    this.rubberband_canvas = undefined;\n",
       "    this.rubberband_context = undefined;\n",
       "    this.format_dropdown = undefined;\n",
       "\n",
       "    this.image_mode = 'full';\n",
       "\n",
       "    this.root = $('<div/>');\n",
       "    this._root_extra_style(this.root)\n",
       "    this.root.attr('style', 'display: inline-block');\n",
       "\n",
       "    $(parent_element).append(this.root);\n",
       "\n",
       "    this._init_header(this);\n",
       "    this._init_canvas(this);\n",
       "    this._init_toolbar(this);\n",
       "\n",
       "    var fig = this;\n",
       "\n",
       "    this.waiting = false;\n",
       "\n",
       "    this.ws.onopen =  function () {\n",
       "            fig.send_message(\"supports_binary\", {value: fig.supports_binary});\n",
       "            fig.send_message(\"send_image_mode\", {});\n",
       "            if (mpl.ratio != 1) {\n",
       "                fig.send_message(\"set_dpi_ratio\", {'dpi_ratio': mpl.ratio});\n",
       "            }\n",
       "            fig.send_message(\"refresh\", {});\n",
       "        }\n",
       "\n",
       "    this.imageObj.onload = function() {\n",
       "            if (fig.image_mode == 'full') {\n",
       "                // Full images could contain transparency (where diff images\n",
       "                // almost always do), so we need to clear the canvas so that\n",
       "                // there is no ghosting.\n",
       "                fig.context.clearRect(0, 0, fig.canvas.width, fig.canvas.height);\n",
       "            }\n",
       "            fig.context.drawImage(fig.imageObj, 0, 0);\n",
       "        };\n",
       "\n",
       "    this.imageObj.onunload = function() {\n",
       "        fig.ws.close();\n",
       "    }\n",
       "\n",
       "    this.ws.onmessage = this._make_on_message_function(this);\n",
       "\n",
       "    this.ondownload = ondownload;\n",
       "}\n",
       "\n",
       "mpl.figure.prototype._init_header = function() {\n",
       "    var titlebar = $(\n",
       "        '<div class=\"ui-dialog-titlebar ui-widget-header ui-corner-all ' +\n",
       "        'ui-helper-clearfix\"/>');\n",
       "    var titletext = $(\n",
       "        '<div class=\"ui-dialog-title\" style=\"width: 100%; ' +\n",
       "        'text-align: center; padding: 3px;\"/>');\n",
       "    titlebar.append(titletext)\n",
       "    this.root.append(titlebar);\n",
       "    this.header = titletext[0];\n",
       "}\n",
       "\n",
       "\n",
       "\n",
       "mpl.figure.prototype._canvas_extra_style = function(canvas_div) {\n",
       "\n",
       "}\n",
       "\n",
       "\n",
       "mpl.figure.prototype._root_extra_style = function(canvas_div) {\n",
       "\n",
       "}\n",
       "\n",
       "mpl.figure.prototype._init_canvas = function() {\n",
       "    var fig = this;\n",
       "\n",
       "    var canvas_div = $('<div/>');\n",
       "\n",
       "    canvas_div.attr('style', 'position: relative; clear: both; outline: 0');\n",
       "\n",
       "    function canvas_keyboard_event(event) {\n",
       "        return fig.key_event(event, event['data']);\n",
       "    }\n",
       "\n",
       "    canvas_div.keydown('key_press', canvas_keyboard_event);\n",
       "    canvas_div.keyup('key_release', canvas_keyboard_event);\n",
       "    this.canvas_div = canvas_div\n",
       "    this._canvas_extra_style(canvas_div)\n",
       "    this.root.append(canvas_div);\n",
       "\n",
       "    var canvas = $('<canvas/>');\n",
       "    canvas.addClass('mpl-canvas');\n",
       "    canvas.attr('style', \"left: 0; top: 0; z-index: 0; outline: 0\")\n",
       "\n",
       "    this.canvas = canvas[0];\n",
       "    this.context = canvas[0].getContext(\"2d\");\n",
       "\n",
       "    var backingStore = this.context.backingStorePixelRatio ||\n",
       "\tthis.context.webkitBackingStorePixelRatio ||\n",
       "\tthis.context.mozBackingStorePixelRatio ||\n",
       "\tthis.context.msBackingStorePixelRatio ||\n",
       "\tthis.context.oBackingStorePixelRatio ||\n",
       "\tthis.context.backingStorePixelRatio || 1;\n",
       "\n",
       "    mpl.ratio = (window.devicePixelRatio || 1) / backingStore;\n",
       "\n",
       "    var rubberband = $('<canvas/>');\n",
       "    rubberband.attr('style', \"position: absolute; left: 0; top: 0; z-index: 1;\")\n",
       "\n",
       "    var pass_mouse_events = true;\n",
       "\n",
       "    canvas_div.resizable({\n",
       "        start: function(event, ui) {\n",
       "            pass_mouse_events = false;\n",
       "        },\n",
       "        resize: function(event, ui) {\n",
       "            fig.request_resize(ui.size.width, ui.size.height);\n",
       "        },\n",
       "        stop: function(event, ui) {\n",
       "            pass_mouse_events = true;\n",
       "            fig.request_resize(ui.size.width, ui.size.height);\n",
       "        },\n",
       "    });\n",
       "\n",
       "    function mouse_event_fn(event) {\n",
       "        if (pass_mouse_events)\n",
       "            return fig.mouse_event(event, event['data']);\n",
       "    }\n",
       "\n",
       "    rubberband.mousedown('button_press', mouse_event_fn);\n",
       "    rubberband.mouseup('button_release', mouse_event_fn);\n",
       "    // Throttle sequential mouse events to 1 every 20ms.\n",
       "    rubberband.mousemove('motion_notify', mouse_event_fn);\n",
       "\n",
       "    rubberband.mouseenter('figure_enter', mouse_event_fn);\n",
       "    rubberband.mouseleave('figure_leave', mouse_event_fn);\n",
       "\n",
       "    canvas_div.on(\"wheel\", function (event) {\n",
       "        event = event.originalEvent;\n",
       "        event['data'] = 'scroll'\n",
       "        if (event.deltaY < 0) {\n",
       "            event.step = 1;\n",
       "        } else {\n",
       "            event.step = -1;\n",
       "        }\n",
       "        mouse_event_fn(event);\n",
       "    });\n",
       "\n",
       "    canvas_div.append(canvas);\n",
       "    canvas_div.append(rubberband);\n",
       "\n",
       "    this.rubberband = rubberband;\n",
       "    this.rubberband_canvas = rubberband[0];\n",
       "    this.rubberband_context = rubberband[0].getContext(\"2d\");\n",
       "    this.rubberband_context.strokeStyle = \"#000000\";\n",
       "\n",
       "    this._resize_canvas = function(width, height) {\n",
       "        // Keep the size of the canvas, canvas container, and rubber band\n",
       "        // canvas in synch.\n",
       "        canvas_div.css('width', width)\n",
       "        canvas_div.css('height', height)\n",
       "\n",
       "        canvas.attr('width', width * mpl.ratio);\n",
       "        canvas.attr('height', height * mpl.ratio);\n",
       "        canvas.attr('style', 'width: ' + width + 'px; height: ' + height + 'px;');\n",
       "\n",
       "        rubberband.attr('width', width);\n",
       "        rubberband.attr('height', height);\n",
       "    }\n",
       "\n",
       "    // Set the figure to an initial 600x600px, this will subsequently be updated\n",
       "    // upon first draw.\n",
       "    this._resize_canvas(600, 600);\n",
       "\n",
       "    // Disable right mouse context menu.\n",
       "    $(this.rubberband_canvas).bind(\"contextmenu\",function(e){\n",
       "        return false;\n",
       "    });\n",
       "\n",
       "    function set_focus () {\n",
       "        canvas.focus();\n",
       "        canvas_div.focus();\n",
       "    }\n",
       "\n",
       "    window.setTimeout(set_focus, 100);\n",
       "}\n",
       "\n",
       "mpl.figure.prototype._init_toolbar = function() {\n",
       "    var fig = this;\n",
       "\n",
       "    var nav_element = $('<div/>');\n",
       "    nav_element.attr('style', 'width: 100%');\n",
       "    this.root.append(nav_element);\n",
       "\n",
       "    // Define a callback function for later on.\n",
       "    function toolbar_event(event) {\n",
       "        return fig.toolbar_button_onclick(event['data']);\n",
       "    }\n",
       "    function toolbar_mouse_event(event) {\n",
       "        return fig.toolbar_button_onmouseover(event['data']);\n",
       "    }\n",
       "\n",
       "    for(var toolbar_ind in mpl.toolbar_items) {\n",
       "        var name = mpl.toolbar_items[toolbar_ind][0];\n",
       "        var tooltip = mpl.toolbar_items[toolbar_ind][1];\n",
       "        var image = mpl.toolbar_items[toolbar_ind][2];\n",
       "        var method_name = mpl.toolbar_items[toolbar_ind][3];\n",
       "\n",
       "        if (!name) {\n",
       "            // put a spacer in here.\n",
       "            continue;\n",
       "        }\n",
       "        var button = $('<button/>');\n",
       "        button.addClass('ui-button ui-widget ui-state-default ui-corner-all ' +\n",
       "                        'ui-button-icon-only');\n",
       "        button.attr('role', 'button');\n",
       "        button.attr('aria-disabled', 'false');\n",
       "        button.click(method_name, toolbar_event);\n",
       "        button.mouseover(tooltip, toolbar_mouse_event);\n",
       "\n",
       "        var icon_img = $('<span/>');\n",
       "        icon_img.addClass('ui-button-icon-primary ui-icon');\n",
       "        icon_img.addClass(image);\n",
       "        icon_img.addClass('ui-corner-all');\n",
       "\n",
       "        var tooltip_span = $('<span/>');\n",
       "        tooltip_span.addClass('ui-button-text');\n",
       "        tooltip_span.html(tooltip);\n",
       "\n",
       "        button.append(icon_img);\n",
       "        button.append(tooltip_span);\n",
       "\n",
       "        nav_element.append(button);\n",
       "    }\n",
       "\n",
       "    var fmt_picker_span = $('<span/>');\n",
       "\n",
       "    var fmt_picker = $('<select/>');\n",
       "    fmt_picker.addClass('mpl-toolbar-option ui-widget ui-widget-content');\n",
       "    fmt_picker_span.append(fmt_picker);\n",
       "    nav_element.append(fmt_picker_span);\n",
       "    this.format_dropdown = fmt_picker[0];\n",
       "\n",
       "    for (var ind in mpl.extensions) {\n",
       "        var fmt = mpl.extensions[ind];\n",
       "        var option = $(\n",
       "            '<option/>', {selected: fmt === mpl.default_extension}).html(fmt);\n",
       "        fmt_picker.append(option);\n",
       "    }\n",
       "\n",
       "    // Add hover states to the ui-buttons\n",
       "    $( \".ui-button\" ).hover(\n",
       "        function() { $(this).addClass(\"ui-state-hover\");},\n",
       "        function() { $(this).removeClass(\"ui-state-hover\");}\n",
       "    );\n",
       "\n",
       "    var status_bar = $('<span class=\"mpl-message\"/>');\n",
       "    nav_element.append(status_bar);\n",
       "    this.message = status_bar[0];\n",
       "}\n",
       "\n",
       "mpl.figure.prototype.request_resize = function(x_pixels, y_pixels) {\n",
       "    // Request matplotlib to resize the figure. Matplotlib will then trigger a resize in the client,\n",
       "    // which will in turn request a refresh of the image.\n",
       "    this.send_message('resize', {'width': x_pixels, 'height': y_pixels});\n",
       "}\n",
       "\n",
       "mpl.figure.prototype.send_message = function(type, properties) {\n",
       "    properties['type'] = type;\n",
       "    properties['figure_id'] = this.id;\n",
       "    this.ws.send(JSON.stringify(properties));\n",
       "}\n",
       "\n",
       "mpl.figure.prototype.send_draw_message = function() {\n",
       "    if (!this.waiting) {\n",
       "        this.waiting = true;\n",
       "        this.ws.send(JSON.stringify({type: \"draw\", figure_id: this.id}));\n",
       "    }\n",
       "}\n",
       "\n",
       "\n",
       "mpl.figure.prototype.handle_save = function(fig, msg) {\n",
       "    var format_dropdown = fig.format_dropdown;\n",
       "    var format = format_dropdown.options[format_dropdown.selectedIndex].value;\n",
       "    fig.ondownload(fig, format);\n",
       "}\n",
       "\n",
       "\n",
       "mpl.figure.prototype.handle_resize = function(fig, msg) {\n",
       "    var size = msg['size'];\n",
       "    if (size[0] != fig.canvas.width || size[1] != fig.canvas.height) {\n",
       "        fig._resize_canvas(size[0], size[1]);\n",
       "        fig.send_message(\"refresh\", {});\n",
       "    };\n",
       "}\n",
       "\n",
       "mpl.figure.prototype.handle_rubberband = function(fig, msg) {\n",
       "    var x0 = msg['x0'] / mpl.ratio;\n",
       "    var y0 = (fig.canvas.height - msg['y0']) / mpl.ratio;\n",
       "    var x1 = msg['x1'] / mpl.ratio;\n",
       "    var y1 = (fig.canvas.height - msg['y1']) / mpl.ratio;\n",
       "    x0 = Math.floor(x0) + 0.5;\n",
       "    y0 = Math.floor(y0) + 0.5;\n",
       "    x1 = Math.floor(x1) + 0.5;\n",
       "    y1 = Math.floor(y1) + 0.5;\n",
       "    var min_x = Math.min(x0, x1);\n",
       "    var min_y = Math.min(y0, y1);\n",
       "    var width = Math.abs(x1 - x0);\n",
       "    var height = Math.abs(y1 - y0);\n",
       "\n",
       "    fig.rubberband_context.clearRect(\n",
       "        0, 0, fig.canvas.width / mpl.ratio, fig.canvas.height / mpl.ratio);\n",
       "\n",
       "    fig.rubberband_context.strokeRect(min_x, min_y, width, height);\n",
       "}\n",
       "\n",
       "mpl.figure.prototype.handle_figure_label = function(fig, msg) {\n",
       "    // Updates the figure title.\n",
       "    fig.header.textContent = msg['label'];\n",
       "}\n",
       "\n",
       "mpl.figure.prototype.handle_cursor = function(fig, msg) {\n",
       "    var cursor = msg['cursor'];\n",
       "    switch(cursor)\n",
       "    {\n",
       "    case 0:\n",
       "        cursor = 'pointer';\n",
       "        break;\n",
       "    case 1:\n",
       "        cursor = 'default';\n",
       "        break;\n",
       "    case 2:\n",
       "        cursor = 'crosshair';\n",
       "        break;\n",
       "    case 3:\n",
       "        cursor = 'move';\n",
       "        break;\n",
       "    }\n",
       "    fig.rubberband_canvas.style.cursor = cursor;\n",
       "}\n",
       "\n",
       "mpl.figure.prototype.handle_message = function(fig, msg) {\n",
       "    fig.message.textContent = msg['message'];\n",
       "}\n",
       "\n",
       "mpl.figure.prototype.handle_draw = function(fig, msg) {\n",
       "    // Request the server to send over a new figure.\n",
       "    fig.send_draw_message();\n",
       "}\n",
       "\n",
       "mpl.figure.prototype.handle_image_mode = function(fig, msg) {\n",
       "    fig.image_mode = msg['mode'];\n",
       "}\n",
       "\n",
       "mpl.figure.prototype.updated_canvas_event = function() {\n",
       "    // Called whenever the canvas gets updated.\n",
       "    this.send_message(\"ack\", {});\n",
       "}\n",
       "\n",
       "// A function to construct a web socket function for onmessage handling.\n",
       "// Called in the figure constructor.\n",
       "mpl.figure.prototype._make_on_message_function = function(fig) {\n",
       "    return function socket_on_message(evt) {\n",
       "        if (evt.data instanceof Blob) {\n",
       "            /* FIXME: We get \"Resource interpreted as Image but\n",
       "             * transferred with MIME type text/plain:\" errors on\n",
       "             * Chrome.  But how to set the MIME type?  It doesn't seem\n",
       "             * to be part of the websocket stream */\n",
       "            evt.data.type = \"image/png\";\n",
       "\n",
       "            /* Free the memory for the previous frames */\n",
       "            if (fig.imageObj.src) {\n",
       "                (window.URL || window.webkitURL).revokeObjectURL(\n",
       "                    fig.imageObj.src);\n",
       "            }\n",
       "\n",
       "            fig.imageObj.src = (window.URL || window.webkitURL).createObjectURL(\n",
       "                evt.data);\n",
       "            fig.updated_canvas_event();\n",
       "            fig.waiting = false;\n",
       "            return;\n",
       "        }\n",
       "        else if (typeof evt.data === 'string' && evt.data.slice(0, 21) == \"data:image/png;base64\") {\n",
       "            fig.imageObj.src = evt.data;\n",
       "            fig.updated_canvas_event();\n",
       "            fig.waiting = false;\n",
       "            return;\n",
       "        }\n",
       "\n",
       "        var msg = JSON.parse(evt.data);\n",
       "        var msg_type = msg['type'];\n",
       "\n",
       "        // Call the  \"handle_{type}\" callback, which takes\n",
       "        // the figure and JSON message as its only arguments.\n",
       "        try {\n",
       "            var callback = fig[\"handle_\" + msg_type];\n",
       "        } catch (e) {\n",
       "            console.log(\"No handler for the '\" + msg_type + \"' message type: \", msg);\n",
       "            return;\n",
       "        }\n",
       "\n",
       "        if (callback) {\n",
       "            try {\n",
       "                // console.log(\"Handling '\" + msg_type + \"' message: \", msg);\n",
       "                callback(fig, msg);\n",
       "            } catch (e) {\n",
       "                console.log(\"Exception inside the 'handler_\" + msg_type + \"' callback:\", e, e.stack, msg);\n",
       "            }\n",
       "        }\n",
       "    };\n",
       "}\n",
       "\n",
       "// from http://stackoverflow.com/questions/1114465/getting-mouse-location-in-canvas\n",
       "mpl.findpos = function(e) {\n",
       "    //this section is from http://www.quirksmode.org/js/events_properties.html\n",
       "    var targ;\n",
       "    if (!e)\n",
       "        e = window.event;\n",
       "    if (e.target)\n",
       "        targ = e.target;\n",
       "    else if (e.srcElement)\n",
       "        targ = e.srcElement;\n",
       "    if (targ.nodeType == 3) // defeat Safari bug\n",
       "        targ = targ.parentNode;\n",
       "\n",
       "    // jQuery normalizes the pageX and pageY\n",
       "    // pageX,Y are the mouse positions relative to the document\n",
       "    // offset() returns the position of the element relative to the document\n",
       "    var x = e.pageX - $(targ).offset().left;\n",
       "    var y = e.pageY - $(targ).offset().top;\n",
       "\n",
       "    return {\"x\": x, \"y\": y};\n",
       "};\n",
       "\n",
       "/*\n",
       " * return a copy of an object with only non-object keys\n",
       " * we need this to avoid circular references\n",
       " * http://stackoverflow.com/a/24161582/3208463\n",
       " */\n",
       "function simpleKeys (original) {\n",
       "  return Object.keys(original).reduce(function (obj, key) {\n",
       "    if (typeof original[key] !== 'object')\n",
       "        obj[key] = original[key]\n",
       "    return obj;\n",
       "  }, {});\n",
       "}\n",
       "\n",
       "mpl.figure.prototype.mouse_event = function(event, name) {\n",
       "    var canvas_pos = mpl.findpos(event)\n",
       "\n",
       "    if (name === 'button_press')\n",
       "    {\n",
       "        this.canvas.focus();\n",
       "        this.canvas_div.focus();\n",
       "    }\n",
       "\n",
       "    var x = canvas_pos.x * mpl.ratio;\n",
       "    var y = canvas_pos.y * mpl.ratio;\n",
       "\n",
       "    this.send_message(name, {x: x, y: y, button: event.button,\n",
       "                             step: event.step,\n",
       "                             guiEvent: simpleKeys(event)});\n",
       "\n",
       "    /* This prevents the web browser from automatically changing to\n",
       "     * the text insertion cursor when the button is pressed.  We want\n",
       "     * to control all of the cursor setting manually through the\n",
       "     * 'cursor' event from matplotlib */\n",
       "    event.preventDefault();\n",
       "    return false;\n",
       "}\n",
       "\n",
       "mpl.figure.prototype._key_event_extra = function(event, name) {\n",
       "    // Handle any extra behaviour associated with a key event\n",
       "}\n",
       "\n",
       "mpl.figure.prototype.key_event = function(event, name) {\n",
       "\n",
       "    // Prevent repeat events\n",
       "    if (name == 'key_press')\n",
       "    {\n",
       "        if (event.which === this._key)\n",
       "            return;\n",
       "        else\n",
       "            this._key = event.which;\n",
       "    }\n",
       "    if (name == 'key_release')\n",
       "        this._key = null;\n",
       "\n",
       "    var value = '';\n",
       "    if (event.ctrlKey && event.which != 17)\n",
       "        value += \"ctrl+\";\n",
       "    if (event.altKey && event.which != 18)\n",
       "        value += \"alt+\";\n",
       "    if (event.shiftKey && event.which != 16)\n",
       "        value += \"shift+\";\n",
       "\n",
       "    value += 'k';\n",
       "    value += event.which.toString();\n",
       "\n",
       "    this._key_event_extra(event, name);\n",
       "\n",
       "    this.send_message(name, {key: value,\n",
       "                             guiEvent: simpleKeys(event)});\n",
       "    return false;\n",
       "}\n",
       "\n",
       "mpl.figure.prototype.toolbar_button_onclick = function(name) {\n",
       "    if (name == 'download') {\n",
       "        this.handle_save(this, null);\n",
       "    } else {\n",
       "        this.send_message(\"toolbar_button\", {name: name});\n",
       "    }\n",
       "};\n",
       "\n",
       "mpl.figure.prototype.toolbar_button_onmouseover = function(tooltip) {\n",
       "    this.message.textContent = tooltip;\n",
       "};\n",
       "mpl.toolbar_items = [[\"Home\", \"Reset original view\", \"fa fa-home icon-home\", \"home\"], [\"Back\", \"Back to previous view\", \"fa fa-arrow-left icon-arrow-left\", \"back\"], [\"Forward\", \"Forward to next view\", \"fa fa-arrow-right icon-arrow-right\", \"forward\"], [\"\", \"\", \"\", \"\"], [\"Pan\", \"Pan axes with left mouse, zoom with right\", \"fa fa-arrows icon-move\", \"pan\"], [\"Zoom\", \"Zoom to rectangle\", \"fa fa-square-o icon-check-empty\", \"zoom\"], [\"\", \"\", \"\", \"\"], [\"Download\", \"Download plot\", \"fa fa-floppy-o icon-save\", \"download\"]];\n",
       "\n",
       "mpl.extensions = [\"eps\", \"jpeg\", \"pdf\", \"png\", \"ps\", \"raw\", \"svg\", \"tif\"];\n",
       "\n",
       "mpl.default_extension = \"png\";var comm_websocket_adapter = function(comm) {\n",
       "    // Create a \"websocket\"-like object which calls the given IPython comm\n",
       "    // object with the appropriate methods. Currently this is a non binary\n",
       "    // socket, so there is still some room for performance tuning.\n",
       "    var ws = {};\n",
       "\n",
       "    ws.close = function() {\n",
       "        comm.close()\n",
       "    };\n",
       "    ws.send = function(m) {\n",
       "        //console.log('sending', m);\n",
       "        comm.send(m);\n",
       "    };\n",
       "    // Register the callback with on_msg.\n",
       "    comm.on_msg(function(msg) {\n",
       "        //console.log('receiving', msg['content']['data'], msg);\n",
       "        // Pass the mpl event to the overridden (by mpl) onmessage function.\n",
       "        ws.onmessage(msg['content']['data'])\n",
       "    });\n",
       "    return ws;\n",
       "}\n",
       "\n",
       "mpl.mpl_figure_comm = function(comm, msg) {\n",
       "    // This is the function which gets called when the mpl process\n",
       "    // starts-up an IPython Comm through the \"matplotlib\" channel.\n",
       "\n",
       "    var id = msg.content.data.id;\n",
       "    // Get hold of the div created by the display call when the Comm\n",
       "    // socket was opened in Python.\n",
       "    var element = $(\"#\" + id);\n",
       "    var ws_proxy = comm_websocket_adapter(comm)\n",
       "\n",
       "    function ondownload(figure, format) {\n",
       "        window.open(figure.imageObj.src);\n",
       "    }\n",
       "\n",
       "    var fig = new mpl.figure(id, ws_proxy,\n",
       "                           ondownload,\n",
       "                           element.get(0));\n",
       "\n",
       "    // Call onopen now - mpl needs it, as it is assuming we've passed it a real\n",
       "    // web socket which is closed, not our websocket->open comm proxy.\n",
       "    ws_proxy.onopen();\n",
       "\n",
       "    fig.parent_element = element.get(0);\n",
       "    fig.cell_info = mpl.find_output_cell(\"<div id='\" + id + \"'></div>\");\n",
       "    if (!fig.cell_info) {\n",
       "        console.error(\"Failed to find cell for figure\", id, fig);\n",
       "        return;\n",
       "    }\n",
       "\n",
       "    var output_index = fig.cell_info[2]\n",
       "    var cell = fig.cell_info[0];\n",
       "\n",
       "};\n",
       "\n",
       "mpl.figure.prototype.handle_close = function(fig, msg) {\n",
       "    var width = fig.canvas.width/mpl.ratio\n",
       "    fig.root.unbind('remove')\n",
       "\n",
       "    // Update the output cell to use the data from the current canvas.\n",
       "    fig.push_to_output();\n",
       "    var dataURL = fig.canvas.toDataURL();\n",
       "    // Re-enable the keyboard manager in IPython - without this line, in FF,\n",
       "    // the notebook keyboard shortcuts fail.\n",
       "    IPython.keyboard_manager.enable()\n",
       "    $(fig.parent_element).html('<img src=\"' + dataURL + '\" width=\"' + width + '\">');\n",
       "    fig.close_ws(fig, msg);\n",
       "}\n",
       "\n",
       "mpl.figure.prototype.close_ws = function(fig, msg){\n",
       "    fig.send_message('closing', msg);\n",
       "    // fig.ws.close()\n",
       "}\n",
       "\n",
       "mpl.figure.prototype.push_to_output = function(remove_interactive) {\n",
       "    // Turn the data on the canvas into data in the output cell.\n",
       "    var width = this.canvas.width/mpl.ratio\n",
       "    var dataURL = this.canvas.toDataURL();\n",
       "    this.cell_info[1]['text/html'] = '<img src=\"' + dataURL + '\" width=\"' + width + '\">';\n",
       "}\n",
       "\n",
       "mpl.figure.prototype.updated_canvas_event = function() {\n",
       "    // Tell IPython that the notebook contents must change.\n",
       "    IPython.notebook.set_dirty(true);\n",
       "    this.send_message(\"ack\", {});\n",
       "    var fig = this;\n",
       "    // Wait a second, then push the new image to the DOM so\n",
       "    // that it is saved nicely (might be nice to debounce this).\n",
       "    setTimeout(function () { fig.push_to_output() }, 1000);\n",
       "}\n",
       "\n",
       "mpl.figure.prototype._init_toolbar = function() {\n",
       "    var fig = this;\n",
       "\n",
       "    var nav_element = $('<div/>');\n",
       "    nav_element.attr('style', 'width: 100%');\n",
       "    this.root.append(nav_element);\n",
       "\n",
       "    // Define a callback function for later on.\n",
       "    function toolbar_event(event) {\n",
       "        return fig.toolbar_button_onclick(event['data']);\n",
       "    }\n",
       "    function toolbar_mouse_event(event) {\n",
       "        return fig.toolbar_button_onmouseover(event['data']);\n",
       "    }\n",
       "\n",
       "    for(var toolbar_ind in mpl.toolbar_items){\n",
       "        var name = mpl.toolbar_items[toolbar_ind][0];\n",
       "        var tooltip = mpl.toolbar_items[toolbar_ind][1];\n",
       "        var image = mpl.toolbar_items[toolbar_ind][2];\n",
       "        var method_name = mpl.toolbar_items[toolbar_ind][3];\n",
       "\n",
       "        if (!name) { continue; };\n",
       "\n",
       "        var button = $('<button class=\"btn btn-default\" href=\"#\" title=\"' + name + '\"><i class=\"fa ' + image + ' fa-lg\"></i></button>');\n",
       "        button.click(method_name, toolbar_event);\n",
       "        button.mouseover(tooltip, toolbar_mouse_event);\n",
       "        nav_element.append(button);\n",
       "    }\n",
       "\n",
       "    // Add the status bar.\n",
       "    var status_bar = $('<span class=\"mpl-message\" style=\"text-align:right; float: right;\"/>');\n",
       "    nav_element.append(status_bar);\n",
       "    this.message = status_bar[0];\n",
       "\n",
       "    // Add the close button to the window.\n",
       "    var buttongrp = $('<div class=\"btn-group inline pull-right\"></div>');\n",
       "    var button = $('<button class=\"btn btn-mini btn-primary\" href=\"#\" title=\"Stop Interaction\"><i class=\"fa fa-power-off icon-remove icon-large\"></i></button>');\n",
       "    button.click(function (evt) { fig.handle_close(fig, {}); } );\n",
       "    button.mouseover('Stop Interaction', toolbar_mouse_event);\n",
       "    buttongrp.append(button);\n",
       "    var titlebar = this.root.find($('.ui-dialog-titlebar'));\n",
       "    titlebar.prepend(buttongrp);\n",
       "}\n",
       "\n",
       "mpl.figure.prototype._root_extra_style = function(el){\n",
       "    var fig = this\n",
       "    el.on(\"remove\", function(){\n",
       "\tfig.close_ws(fig, {});\n",
       "    });\n",
       "}\n",
       "\n",
       "mpl.figure.prototype._canvas_extra_style = function(el){\n",
       "    // this is important to make the div 'focusable\n",
       "    el.attr('tabindex', 0)\n",
       "    // reach out to IPython and tell the keyboard manager to turn it's self\n",
       "    // off when our div gets focus\n",
       "\n",
       "    // location in version 3\n",
       "    if (IPython.notebook.keyboard_manager) {\n",
       "        IPython.notebook.keyboard_manager.register_events(el);\n",
       "    }\n",
       "    else {\n",
       "        // location in version 2\n",
       "        IPython.keyboard_manager.register_events(el);\n",
       "    }\n",
       "\n",
       "}\n",
       "\n",
       "mpl.figure.prototype._key_event_extra = function(event, name) {\n",
       "    var manager = IPython.notebook.keyboard_manager;\n",
       "    if (!manager)\n",
       "        manager = IPython.keyboard_manager;\n",
       "\n",
       "    // Check for shift+enter\n",
       "    if (event.shiftKey && event.which == 13) {\n",
       "        this.canvas_div.blur();\n",
       "        // select the cell after this one\n",
       "        var index = IPython.notebook.find_cell_index(this.cell_info[0]);\n",
       "        IPython.notebook.select(index + 1);\n",
       "    }\n",
       "}\n",
       "\n",
       "mpl.figure.prototype.handle_save = function(fig, msg) {\n",
       "    fig.ondownload(fig, null);\n",
       "}\n",
       "\n",
       "\n",
       "mpl.find_output_cell = function(html_output) {\n",
       "    // Return the cell and output element which can be found *uniquely* in the notebook.\n",
       "    // Note - this is a bit hacky, but it is done because the \"notebook_saving.Notebook\"\n",
       "    // IPython event is triggered only after the cells have been serialised, which for\n",
       "    // our purposes (turning an active figure into a static one), is too late.\n",
       "    var cells = IPython.notebook.get_cells();\n",
       "    var ncells = cells.length;\n",
       "    for (var i=0; i<ncells; i++) {\n",
       "        var cell = cells[i];\n",
       "        if (cell.cell_type === 'code'){\n",
       "            for (var j=0; j<cell.output_area.outputs.length; j++) {\n",
       "                var data = cell.output_area.outputs[j];\n",
       "                if (data.data) {\n",
       "                    // IPython >= 3 moved mimebundle to data attribute of output\n",
       "                    data = data.data;\n",
       "                }\n",
       "                if (data['text/html'] == html_output) {\n",
       "                    return [cell, data, j];\n",
       "                }\n",
       "            }\n",
       "        }\n",
       "    }\n",
       "}\n",
       "\n",
       "// Register the function which deals with the matplotlib target/channel.\n",
       "// The kernel may be null if the page has been refreshed.\n",
       "if (IPython.notebook.kernel != null) {\n",
       "    IPython.notebook.kernel.comm_manager.register_target('matplotlib', mpl.mpl_figure_comm);\n",
       "}\n"
      ],
      "text/plain": [
       "<IPython.core.display.Javascript object>"
      ]
     },
     "metadata": {},
     "output_type": "display_data"
    },
    {
     "data": {
      "text/html": [
       "<img src=\"data:image/png;base64,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\" width=\"640\">"
      ],
      "text/plain": [
       "<IPython.core.display.HTML object>"
      ]
     },
     "metadata": {},
     "output_type": "display_data"
    }
   ],
   "source": [
    "%matplotlib notebook\n",
    "import matplotlib.pyplot as plt\n",
    "plt.plot([1, 2, 3, 4],[1, 4, 9, 16])\n",
    "plt.ylabel('Eixo y')\n",
    "plt.xlabel('Eixo x')\n",
    "plt.show()"
   ]
  },
  {
   "cell_type": "markdown",
   "metadata": {
    "colab_type": "text",
    "id": "F8T3xC8d7Gbl"
   },
   "source": [
    "**Alterando a forma dos pontos**"
   ]
  },
  {
   "cell_type": "code",
   "execution_count": 6,
   "metadata": {
    "colab": {
     "base_uri": "https://localhost:8080/",
     "height": 347
    },
    "colab_type": "code",
    "id": "B8y-T-PNPQHw",
    "outputId": "be0aa333-4f48-4c4d-ff5b-d22404d75f1a"
   },
   "outputs": [
    {
     "data": {
      "image/png": "[encoded data removed]",
      "text/plain": [
       "<Figure size 432x288 with 1 Axes>"
      ]
     },
     "metadata": {
      "needs_background": "light"
     },
     "output_type": "display_data"
    }
   ],
   "source": [
    "%matplotlib inline\n",
    "# plot(x, y)\n",
    "plt.plot([1, 2, 3, 4], [1, 4, 9, 16],'o')\n",
    "plt.show()"
   ]
  },
  {
   "cell_type": "markdown",
   "metadata": {
    "colab_type": "text",
    "id": "ira0qLpa7Gbq"
   },
   "source": [
    "**Definindo limites de visualização dos eixos x e y**"
   ]
  },
  {
   "cell_type": "code",
   "execution_count": 7,
   "metadata": {
    "colab": {
     "base_uri": "https://localhost:8080/",
     "height": 351
    },
    "colab_type": "code",
    "id": "BvXPx243PQLE",
    "outputId": "ffbae46a-764c-493b-ccaf-d7aae89b40af"
   },
   "outputs": [
    {
     "data": {
      "image/png": "[encoded data removed]",
      "text/plain": [
       "<Figure size 432x288 with 1 Axes>"
      ]
     },
     "metadata": {
      "needs_background": "light"
     },
     "output_type": "display_data"
    }
   ],
   "source": [
    "# Opções do método axis()\n",
    "%matplotlib inline\n",
    "\n",
    "#plot(x,y)\n",
    "\n",
    "plt.plot([1, 2, 3, 4], [1, 4, 9, 16],'o')\n",
    "\n",
    "#axis(xmin,xmin, ymin,ymax)\n",
    "\n",
    "plt.axis([0,6,0,20])           # [xmin, xmax, ymin, ymax]\n",
    "plt.show()"
   ]
  },
  {
   "cell_type": "markdown",
   "metadata": {
    "colab_type": "text",
    "id": "4ugLKAPq7Gbw"
   },
   "source": [
    "**Importa a biblioteca numpy**"
   ]
  },
  {
   "cell_type": "code",
   "execution_count": 8,
   "metadata": {
    "colab": {},
    "colab_type": "code",
    "id": "dK7pwQQW7Gby"
   },
   "outputs": [],
   "source": [
    "import numpy as np"
   ]
  },
  {
   "cell_type": "markdown",
   "metadata": {
    "colab_type": "text",
    "id": "BY-mvxTx7Gb2"
   },
   "source": [
    "**Plot duas séries de dados, no caso x1 e y2 e x3 e y3**"
   ]
  },
  {
   "cell_type": "code",
   "execution_count": 9,
   "metadata": {
    "colab": {
     "base_uri": "https://localhost:8080/",
     "height": 347
    },
    "colab_type": "code",
    "id": "4TfBpVkpQUHD",
    "outputId": "98b16f50-e702-4d68-aada-669ac1b39eae"
   },
   "outputs": [
    {
     "data": {
      "image/png": "[encoded data removed]",
      "text/plain": [
       "<Figure size 432x288 with 1 Axes>"
      ]
     },
     "metadata": {
      "needs_background": "light"
     },
     "output_type": "display_data"
    }
   ],
   "source": [
    "%matplotlib inline\n",
    "x1=np.array([1,2,3,4,5,6,7,8,9,10,11])\n",
    "\n",
    "x2=x1\n",
    "y2=x1**2            # Numero elevado ao quadrado\n",
    "\n",
    "x3=x1               # Numero elevado cubo\n",
    "y3=x1**3\n",
    "plt.plot(x1,x1,'r--',x2,y2,'bs',x3,y3,'g^')\n",
    "\n",
    "plt.show()"
   ]
  },
  {
   "cell_type": "markdown",
   "metadata": {
    "colab_type": "text",
    "id": "XzVIAcG8U7Qp"
   },
   "source": [
    "## Plotando dados categóricos\n",
    "\n",
    "* Trabalhando com gráficos de barras.\n",
    "* Ideal para quando estamos trabalhando com **comparação de valores**.\n",
    "* Normalmente quer se visualizar frequência ou percentual de valores."
   ]
  },
  {
   "cell_type": "markdown",
   "metadata": {
    "colab_type": "text",
    "id": "bVW1iuW07Gb8"
   },
   "source": [
    "**Plotando gráfico de barras verticais o gráfico de colunas**"
   ]
  },
  {
   "cell_type": "code",
   "execution_count": 3,
   "metadata": {
    "colab": {
     "base_uri": "https://localhost:8080/",
     "height": 347
    },
    "colab_type": "code",
    "id": "HTQstQPoWCxC",
    "outputId": "97b233d0-4ebc-4939-8d3f-875fe11dc2ee"
   },
   "outputs": [
    {
     "data": {
      "image/png": "[encoded data removed]",
      "text/plain": [
       "<Figure size 432x288 with 1 Axes>"
      ]
     },
     "metadata": {
      "needs_background": "light"
     },
     "output_type": "display_data"
    }
   ],
   "source": [
    "%matplotlib inline\n",
    "grupos=['Produto A','Produto B','Produto C']\n",
    "valores=[10,50,100]\n",
    "plt.bar(grupos,valores)\n",
    "plt.show()"
   ]
  },
  {
   "cell_type": "markdown",
   "metadata": {},
   "source": [
    "**Plota gráficos de Barras juntas**"
   ]
  },
  {
   "cell_type": "code",
   "execution_count": 4,
   "metadata": {},
   "outputs": [],
   "source": [
    "# Importa o numpy\n",
    "import numpy as np"
   ]
  },
  {
   "cell_type": "code",
   "execution_count": 6,
   "metadata": {
    "colab": {
     "base_uri": "https://localhost:8080/",
     "height": 362
    },
    "colab_type": "code",
    "id": "cczHg2-87X53",
    "outputId": "88775308-db67-436c-f28a-9a64ec33136b"
   },
   "outputs": [
    {
     "data": {
      "image/png": "[encoded data removed]",
      "text/plain": [
       "<Figure size 432x288 with 1 Axes>"
      ]
     },
     "metadata": {
      "needs_background": "light"
     },
     "output_type": "display_data"
    }
   ],
   "source": [
    "%matplotlib inline\n",
    "\n",
    "# Quantidade de vendas para o Produto A\n",
    "valores_produto_A=[6,7,8,4,4]\n",
    "\n",
    "\n",
    "# Quantidade de vendas para o Produto B\n",
    "valores_produto_B=[3,12,3,4.1,6]\n",
    "\n",
    "# Cria eixo x para produto A e produto B com uma separação de 0.25 entre as barras\n",
    "x1 = np.arange(len(valores_produto_A))\n",
    "x2 = [x + 0.25 for x in x1]\n",
    "\n",
    "# Plota as barras\n",
    "plt.bar(x1,valores_produto_A,width=0.25,label='Produto A',color='b')\n",
    "plt.bar(x2,valores_produto_B,width=0.25,label='Produto B',color='y')\n",
    "\n",
    "meses=['Agosto','Setembro','Outubro','Novembro','Dezembro']\n",
    "plt.xticks([x + 0.25 for x in np.arange(len(valores_produto_A))],meses)\n",
    "\n",
    "plt.legend()\n",
    "\n",
    "plt.title('Quantidade de Vendas')\n",
    "plt.show()"
   ]
  },
  {
   "cell_type": "markdown",
   "metadata": {
    "colab_type": "text",
    "id": "DqPa2WbF7GcA"
   },
   "source": [
    "**Gráfico de barras horizontais**"
   ]
  },
  {
   "cell_type": "markdown",
   "metadata": {
    "colab_type": "text",
    "id": "aXjh-OXv7GcB"
   },
   "source": [
    "* Gráfico muito usado quando queremos fazer **comparações**.\n",
    "* Muito usado em pesquisas de campanhas eleitorais.\n",
    "* Leitura muito simples e intuitiva.\n",
    "* Funciona bem quando os labels dos eixos são longos."
   ]
  },
  {
   "cell_type": "code",
   "execution_count": 7,
   "metadata": {
    "colab": {
     "base_uri": "https://localhost:8080/",
     "height": 347
    },
    "colab_type": "code",
    "id": "HTQstQPoWCxC",
    "outputId": "97b233d0-4ebc-4939-8d3f-875fe11dc2ee"
   },
   "outputs": [
    {
     "data": {
      "image/png": "[encoded data removed]",
      "text/plain": [
       "<Figure size 432x288 with 1 Axes>"
      ]
     },
     "metadata": {
      "needs_background": "light"
     },
     "output_type": "display_data"
    }
   ],
   "source": [
    "%matplotlib inline\n",
    "grupos=['Produto A','Produto B','Produto C']\n",
    "valores=[1,10,100]\n",
    "plt.barh(grupos,valores)\n",
    "plt.show()"
   ]
  },
  {
   "cell_type": "markdown",
   "metadata": {},
   "source": [
    "**Rotacionando Labels**"
   ]
  },
  {
   "cell_type": "code",
   "execution_count": 9,
   "metadata": {
    "colab": {
     "base_uri": "https://localhost:8080/",
     "height": 347
    },
    "colab_type": "code",
    "id": "HTQstQPoWCxC",
    "outputId": "97b233d0-4ebc-4939-8d3f-875fe11dc2ee"
   },
   "outputs": [
    {
     "data": {
      "image/png": "[encoded data removed]",
      "text/plain": [
       "<Figure size 432x288 with 1 Axes>"
      ]
     },
     "metadata": {
      "needs_background": "light"
     },
     "output_type": "display_data"
    }
   ],
   "source": [
    "%matplotlib inline\n",
    "grupos=['Produto A','Produto B','Produto C']\n",
    "valores=[1,10,100]\n",
    "plt.barh(grupos,valores)\n",
    "plt.yticks(rotation=45)\n",
    "plt.show()"
   ]
  },
  {
   "cell_type": "markdown",
   "metadata": {
    "colab_type": "text",
    "id": "nC4HrBsn7GcG"
   },
   "source": [
    "**Rotacionando labels nos eixos**"
   ]
  },
  {
   "cell_type": "markdown",
   "metadata": {
    "colab_type": "text",
    "id": "TiZ3UhWrYEO1"
   },
   "source": [
    "# Grafico de Pizza"
   ]
  },
  {
   "cell_type": "code",
   "execution_count": 10,
   "metadata": {
    "colab": {},
    "colab_type": "code",
    "id": "wqebGM9P7GcK",
    "outputId": "2cfe3516-7f60-4664-8c3c-2a4b54f45442"
   },
   "outputs": [
    {
     "data": {
      "image/png": "[encoded data removed]",
      "text/plain": [
       "<Figure size 432x288 with 1 Axes>"
      ]
     },
     "metadata": {},
     "output_type": "display_data"
    }
   ],
   "source": [
    "%matplotlib inline\n",
    "\n",
    "vendas=[3000,2300,1000,500]\n",
    "labels=['E-commerce','Loja Física','e-mail','Marketplace']\n",
    "plt.pie(vendas,labels=labels)\n",
    "plt.show()"
   ]
  },
  {
   "cell_type": "markdown",
   "metadata": {
    "colab": {},
    "colab_type": "code",
    "id": "jr8tS4LoPQNj"
   },
   "source": [
    "## Customizando gráficos"
   ]
  },
  {
   "cell_type": "markdown",
   "metadata": {},
   "source": [
    "* Adicionando informações de percentual, sombra, separação das partes e legenda"
   ]
  },
  {
   "cell_type": "code",
   "execution_count": 19,
   "metadata": {
    "colab": {},
    "colab_type": "code",
    "id": "fvbc4XXN7GcQ",
    "outputId": "e0b15764-894c-410a-9889-1749b389c424"
   },
   "outputs": [
    {
     "data": {
      "image/png": "[encoded data removed]",
      "text/plain": [
       "<Figure size 432x288 with 1 Axes>"
      ]
     },
     "metadata": {},
     "output_type": "display_data"
    }
   ],
   "source": [
    "%matplotlib inline\n",
    "\n",
    "vendas=[3000,2300,1000,500]\n",
    "labels=['E-commerce','Loja Física','e-mail','Marketplace']\n",
    "\n",
    "\n",
    "# define o nível de separabilidade entre as partes, ordem do vetor representa as partes\n",
    "explode=(0.1,0,0,0)\n",
    "plt.pie(vendas,labels=labels,autopct='%1.1f%%',shadow=True,explode=explode)\n",
    "plt.legend(labels,loc=2)\n",
    "\n",
    "\n",
    "\n",
    "# define que o gráfico será plotado em circulo\n",
    "plt.axis('equal')\n",
    "plt.show()\n"
   ]
  },
  {
   "cell_type": "markdown",
   "metadata": {
    "colab_type": "text",
    "id": "kMigHLvIskvo"
   },
   "source": [
    "# Matplotlib , pyplot e pylab?"
   ]
  },
  {
   "cell_type": "markdown",
   "metadata": {
    "colab_type": "text",
    "id": "an3jYKIXs6yp"
   },
   "source": [
    "*  Pyplot é um módulo do pacote matplotlib que implicitamente cria figuras e eixos nos gráficos.\n",
    "*  Pylab é outro módulo do matplotlib que já importa o numpy e pyplot. Este módulo é projetado para plots de arrays e cálculos matemáticos.\n",
    "*  Pylab está depreciado\n",
    "\n"
   ]
  },
  {
   "cell_type": "code",
   "execution_count": 5,
   "metadata": {
    "colab": {
     "base_uri": "https://localhost:8080/",
     "height": 347
    },
    "colab_type": "code",
    "id": "HD6NO7GNstUP",
    "outputId": "3d29d790-34d2-4f7c-f921-422036f6ebd8"
   },
   "outputs": [
    {
     "data": {
      "image/png": "[encoded data removed]",
      "text/plain": [
       "<Figure size 432x288 with 1 Axes>"
      ]
     },
     "metadata": {
      "needs_background": "light"
     },
     "output_type": "display_data"
    }
   ],
   "source": [
    "import matplotlib.pyplot as plt\n",
    "import numpy as np\n",
    "\n",
    "# Cria uma figura\n",
    "fig=plt.figure()\n",
    "\n",
    "# Define eixos\n",
    "ax=fig.add_subplot(111)\n",
    "\n",
    "# Scatter plot usando numpy\n",
    "ax.scatter(np.linspace(0,1,5),np.linspace(0,5,5))\n",
    "\n",
    "# Show the plot\n",
    "plt.show()"
   ]
  },
  {
   "cell_type": "markdown",
   "metadata": {
    "colab_type": "text",
    "id": "xM2WSk1zz4vo"
   },
   "source": [
    "## Criando Subplots"
   ]
  },
  {
   "cell_type": "markdown",
   "metadata": {},
   "source": [
    "* Para criar subplots defina o número de linhas de gráficos e número de colunas (quantidade de gráfico em cada linha)"
   ]
  },
  {
   "cell_type": "code",
   "execution_count": 6,
   "metadata": {},
   "outputs": [
    {
     "data": {
      "text/plain": [
       "(<Figure size 432x288 with 2 Axes>,\n",
       " array([<matplotlib.axes._subplots.AxesSubplot object at 0x000000000823D548>,\n",
       "        <matplotlib.axes._subplots.AxesSubplot object at 0x00000000082AC1C8>],\n",
       "       dtype=object))"
      ]
     },
     "execution_count": 6,
     "metadata": {},
     "output_type": "execute_result"
    },
    {
     "data": {
      "image/png": "[encoded data removed]",
      "text/plain": [
       "<Figure size 432x288 with 2 Axes>"
      ]
     },
     "metadata": {
      "needs_background": "light"
     },
     "output_type": "display_data"
    }
   ],
   "source": [
    "plt.subplots(nrows=1,ncols=2)"
   ]
  },
  {
   "cell_type": "markdown",
   "metadata": {},
   "source": [
    "** 1 linha com 3 colunas **"
   ]
  },
  {
   "cell_type": "code",
   "execution_count": 7,
   "metadata": {},
   "outputs": [
    {
     "data": {
      "text/plain": [
       "(<Figure size 432x288 with 3 Axes>,\n",
       " array([<matplotlib.axes._subplots.AxesSubplot object at 0x00000000083305C8>,\n",
       "        <matplotlib.axes._subplots.AxesSubplot object at 0x0000000008356D08>,\n",
       "        <matplotlib.axes._subplots.AxesSubplot object at 0x00000000083916C8>],\n",
       "       dtype=object))"
      ]
     },
     "execution_count": 7,
     "metadata": {},
     "output_type": "execute_result"
    },
    {
     "data": {
      "image/png": "[encoded data removed]",
      "text/plain": [
       "<Figure size 432x288 with 3 Axes>"
      ]
     },
     "metadata": {
      "needs_background": "light"
     },
     "output_type": "display_data"
    }
   ],
   "source": [
    "plt.subplots(nrows=1,ncols=3)"
   ]
  },
  {
   "cell_type": "markdown",
   "metadata": {},
   "source": [
    "**2 linhas com 2 colunas**"
   ]
  },
  {
   "cell_type": "code",
   "execution_count": 8,
   "metadata": {},
   "outputs": [
    {
     "data": {
      "text/plain": [
       "(<Figure size 432x288 with 4 Axes>,\n",
       " array([[<matplotlib.axes._subplots.AxesSubplot object at 0x0000000008416048>,\n",
       "         <matplotlib.axes._subplots.AxesSubplot object at 0x0000000008442508>],\n",
       "        [<matplotlib.axes._subplots.AxesSubplot object at 0x0000000008475DC8>,\n",
       "         <matplotlib.axes._subplots.AxesSubplot object at 0x00000000084AF988>]],\n",
       "       dtype=object))"
      ]
     },
     "execution_count": 8,
     "metadata": {},
     "output_type": "execute_result"
    },
    {
     "data": {
      "image/png": "[encoded data removed]",
      "text/plain": [
       "<Figure size 432x288 with 4 Axes>"
      ]
     },
     "metadata": {
      "needs_background": "light"
     },
     "output_type": "display_data"
    }
   ],
   "source": [
    "plt.subplots(nrows=2,ncols=2)"
   ]
  },
  {
   "cell_type": "markdown",
   "metadata": {},
   "source": [
    "**Para acessar suplots usa-se o método *subplot* (atenção para o nome correto no singular)**"
   ]
  },
  {
   "cell_type": "code",
   "execution_count": 9,
   "metadata": {},
   "outputs": [
    {
     "data": {
      "text/plain": [
       "[<matplotlib.lines.Line2D at 0x8591b88>]"
      ]
     },
     "execution_count": 9,
     "metadata": {},
     "output_type": "execute_result"
    },
    {
     "data": {
      "image/png": "[encoded data removed]",
      "text/plain": [
       "<Figure size 432x288 with 2 Axes>"
      ]
     },
     "metadata": {
      "needs_background": "light"
     },
     "output_type": "display_data"
    }
   ],
   "source": [
    "x = [1,2,3,4]\n",
    "y = [10,20,25,40]\n",
    "\n",
    "plt.subplot(1,2,1)\n",
    "plt.plot(x,y,'o')\n",
    "plt.subplot(1,2,2)\n",
    "plt.plot(x,y,color='r')"
   ]
  },
  {
   "cell_type": "markdown",
   "metadata": {},
   "source": [
    "**Criação de instâncias de classes figure**\n",
    "\n",
    "* Aumenta o controle do nível de customização das funções do Matplotlib.\n",
    "* Gera menos código devido a orientação a objetos."
   ]
  },
  {
   "cell_type": "code",
   "execution_count": 10,
   "metadata": {},
   "outputs": [
    {
     "data": {
      "text/plain": [
       "[<matplotlib.lines.Line2D at 0x81bccc8>]"
      ]
     },
     "execution_count": 10,
     "metadata": {},
     "output_type": "execute_result"
    },
    {
     "data": {
      "image/png": "[encoded data removed]",
      "text/plain": [
       "<Figure size 432x288 with 1 Axes>"
      ]
     },
     "metadata": {
      "needs_background": "light"
     },
     "output_type": "display_data"
    }
   ],
   "source": [
    "# Cria um objeto do tipo figure\n",
    "fig=plt.figure()\n",
    "\n",
    "# Define o tamanho em percentual do grafico.\n",
    "# Altura e largura do eixo na figura\n",
    "\n",
    "axes_a=fig.add_axes([0.1,0.1,0.8,0.8])\n",
    "\n",
    "# Plota o gráfico\n",
    "axes_a.plot(x,y)"
   ]
  },
  {
   "cell_type": "markdown",
   "metadata": {},
   "source": [
    "**Uma figura com dois gráficos de proporções diferentes**"
   ]
  },
  {
   "cell_type": "code",
   "execution_count": 11,
   "metadata": {},
   "outputs": [
    {
     "data": {
      "text/plain": [
       "[<matplotlib.lines.Line2D at 0x9435dc8>]"
      ]
     },
     "execution_count": 11,
     "metadata": {},
     "output_type": "execute_result"
    },
    {
     "data": {
      "image/png": "[encoded data removed]",
      "text/plain": [
       "<Figure size 432x288 with 2 Axes>"
      ]
     },
     "metadata": {
      "needs_background": "light"
     },
     "output_type": "display_data"
    }
   ],
   "source": [
    "# Cria um objeto do tipo figure\n",
    "fig = plt.figure()\n",
    "\n",
    "# Define o tamanho em percentual do grafico.\n",
    "# Altura e largura do eixo na figura\n",
    "axes_a = fig.add_axes([0.1,0.1,0.8,0.8])\n",
    "\n",
    "axes_b = fig.add_axes([0.2, 0.5, 0.3, 0.3])\n",
    "\n",
    "# Plota a figura com dois eixos.\n",
    "# O \"r--\" significa linha tracejada em vermelho(r)\n",
    "axes_a.plot(x,y)\n",
    "\n",
    "axes_b.plot(x,y,'r--')"
   ]
  },
  {
   "cell_type": "markdown",
   "metadata": {},
   "source": [
    "** É possível customizar a largura ou altura do gráfico para acomodar melhor seus dados.**\n",
    "\n",
    "*  Exemplo: gráficos de dados financeitos em uma granularidade muito baixa (minutos)"
   ]
  },
  {
   "cell_type": "code",
   "execution_count": 12,
   "metadata": {},
   "outputs": [
    {
     "data": {
      "text/plain": [
       "[<matplotlib.lines.Line2D at 0x94c4dc8>]"
      ]
     },
     "execution_count": 12,
     "metadata": {},
     "output_type": "execute_result"
    },
    {
     "data": {
      "image/png": "[encoded data removed]",
      "text/plain": [
       "<Figure size 1440x360 with 1 Axes>"
      ]
     },
     "metadata": {
      "needs_background": "light"
     },
     "output_type": "display_data"
    }
   ],
   "source": [
    "x = [1,2,3,4]\n",
    "y = [10,20,25,40]\n",
    "# Altera a largura e altura do gráfico (width,height) \n",
    "fig, ax = plt.subplots(figsize=(20,5))\n",
    "\n",
    "# Plota o gráfico\n",
    "ax.plot(x,y, 'r--')"
   ]
  },
  {
   "cell_type": "markdown",
   "metadata": {},
   "source": [
    "** Plotando dois gráficos (eixos) na mesma figura**"
   ]
  },
  {
   "cell_type": "code",
   "execution_count": 13,
   "metadata": {
    "colab": {
     "base_uri": "https://localhost:8080/",
     "height": 592
    },
    "colab_type": "code",
    "id": "pAOLeYFkx48X",
    "outputId": "bd6992c3-595f-4d40-a2a5-6f6ea8f6f3e0"
   },
   "outputs": [
    {
     "data": {
      "image/png": "[encoded data removed]",
      "text/plain": [
       "<Figure size 1440x360 with 2 Axes>"
      ]
     },
     "metadata": {
      "needs_background": "light"
     },
     "output_type": "display_data"
    }
   ],
   "source": [
    "# Define as configurações dos plots\n",
    "# Cada plot terá o mesmo tamanho de figuras\n",
    "\n",
    "fig, (ax1, ax2)=plt.subplots(1,2,figsize=(20,5))\n",
    "\n",
    "# Dados para cada subplot\n",
    "ax1.bar([1,2,3],[3,4,5])\n",
    "\n",
    "ax2.barh([0.5,1,2.5],[0,1,2])\n",
    "\n",
    "plt.show()"
   ]
  },
  {
   "cell_type": "markdown",
   "metadata": {},
   "source": [
    "** Define configuracões dos eixos com o método \"set()\"**"
   ]
  },
  {
   "cell_type": "code",
   "execution_count": 14,
   "metadata": {
    "colab": {
     "base_uri": "https://localhost:8080/",
     "height": 620
    },
    "colab_type": "code",
    "id": "_Tm6l_Y9x5E-",
    "outputId": "adb14cc0-db91-4306-b350-8a64232d2eb6"
   },
   "outputs": [
    {
     "data": {
      "image/png": "[encoded data removed]",
      "text/plain": [
       "<Figure size 720x360 with 2 Axes>"
      ]
     },
     "metadata": {
      "needs_background": "light"
     },
     "output_type": "display_data"
    }
   ],
   "source": [
    "import matplotlib.pyplot as plt\n",
    "\n",
    "# Define as configurações dos plots\n",
    "# Cada plot terá o mesmo tamanho de figuras\n",
    "fig, (ax1, ax2) = plt.subplots(1, 2, figsize=(10,5))\n",
    "\n",
    "# Dados para cada subplot\n",
    "ax1.bar([1,2,3],[3,4,5], color='r')\n",
    "\n",
    "ax2.barh([0.5,1,2.5],[0,1,2])\n",
    "\n",
    "# Usa o método set para definir configurações do  gráfico\n",
    "ax1.set(title='Gráfico de Barras Vertical',xlabel='Eixo X',ylabel='Eixo Y')\n",
    "\n",
    "ax2.set(title='Gráfico de Barras Horizontal',xlabel='Eixo X',ylabel='Eixo Y')\n",
    "\n",
    "plt.show()"
   ]
  },
  {
   "cell_type": "markdown",
   "metadata": {
    "colab_type": "text",
    "id": "Z4QF_QpJ-v-o"
   },
   "source": [
    "# Customizando layouts"
   ]
  },
  {
   "cell_type": "code",
   "execution_count": 16,
   "metadata": {
    "colab": {},
    "colab_type": "code",
    "id": "YEWgIbl3x5LI"
   },
   "outputs": [],
   "source": [
    "import matplotlib.pyplot as plt\n",
    "\n",
    "# Define o stilo para ggplot\n",
    "plt.style.use('ggplot')"
   ]
  },
  {
   "cell_type": "code",
   "execution_count": null,
   "metadata": {
    "colab": {
     "base_uri": "https://localhost:8080/",
     "height": 625
    },
    "colab_type": "code",
    "id": "6Xj2JXbcx5OL",
    "outputId": "d88fbd3e-21c4-4510-ea50-2e15699fc62c"
   },
   "outputs": [],
   "source": [
    "import matplotlib.pyplot as plt\n",
    "\n",
    "# Define as configurações dos plots\n",
    "# Cada plot terá o mesmo tamanho de figuras (10,5)\n",
    "fig, (ax1, ax2) = plt.subplots(1, 2, figsize=(10,5))\n",
    "\n",
    "# Dados para cada subplot\n",
    "ax1.bar([1,2,3],[3,4,5])\n",
    "ax2.barh([0.5,1,2.5],[0,1,2])\n",
    "\n",
    "ax1.set(title=\"Gráfico de Barras Verticais\", xlabel=\"Eixo x\", ylabel=\" Eixo y\")\n",
    "ax2.set(title=\"Gráfico de Barras Horizontais\", xlabel=\"Eixo x\", ylabel=\"Eixo y\")\n",
    "\n",
    "plt.show()"
   ]
  },
  {
   "cell_type": "markdown",
   "metadata": {},
   "source": [
    "** Matplotlib funciona também com cores em RGB. Para fazer isso use o parâmetro *color* **"
   ]
  },
  {
   "cell_type": "code",
   "execution_count": 17,
   "metadata": {},
   "outputs": [
    {
     "data": {
      "image/png": "[encoded data removed]",
      "text/plain": [
       "<Figure size 720x360 with 2 Axes>"
      ]
     },
     "metadata": {},
     "output_type": "display_data"
    }
   ],
   "source": [
    "# Define as configurações dos plots\n",
    "# Cada plot terá o mesmo tamanho de figuras (10,5)\n",
    "fig, (ax1, ax2) = plt.subplots(1, 2, figsize=(10,5))\n",
    "\n",
    "# Dados para cada subplot\n",
    "ax1.bar([1,2,3],[3,4,5],color='#00BFFF')\n",
    "ax2.barh([0.5,1,2.5],[0,1,2], color='#00FF00')\n",
    "\n",
    "ax1.set(title=\"Gráfico de Barras Verticais\", xlabel=\"Eixo x\", ylabel=\" Eixo y\")\n",
    "ax2.set(title=\"Gráfico de Barras Horizontais\", xlabel=\"Eixo x\", ylabel=\"Eixo y\")\n",
    "\n",
    "\n",
    "plt.show()"
   ]
  },
  {
   "cell_type": "markdown",
   "metadata": {
    "colab_type": "text",
    "id": "yrXJpYg5ySWi"
   },
   "source": [
    "# Adiciona textos em gráficos"
   ]
  },
  {
   "cell_type": "code",
   "execution_count": 2,
   "metadata": {},
   "outputs": [],
   "source": [
    "import numpy as np"
   ]
  },
  {
   "cell_type": "code",
   "execution_count": 6,
   "metadata": {
    "colab": {
     "base_uri": "https://localhost:8080/",
     "height": 380
    },
    "colab_type": "code",
    "id": "aS8CHKTDxDjn",
    "outputId": "e3b80746-5af0-4b47-9efb-c986dff9b31b"
   },
   "outputs": [
    {
     "data": {
      "image/png": "[encoded data removed]",
      "text/plain": [
       "<Figure size 432x288 with 1 Axes>"
      ]
     },
     "metadata": {
      "needs_background": "light"
     },
     "output_type": "display_data"
    }
   ],
   "source": [
    "%matplotlib inline\n",
    "\n",
    "# 100 valores no intervalo de 0 a 2.\n",
    "x = np.linspace(0,2,num=100)\n",
    "\n",
    "# define a legenda e tamanho de linhas\n",
    "plt.plot(x,x,label='linear')\n",
    "\n",
    "plt.plot(x,x**2,label='quadratico',linewidth=5)\n",
    "\n",
    "plt.xlabel('xlabel')\n",
    "plt.ylabel('ylabel')\n",
    "\n",
    "plt.title('Gráfico de Linha Simples')\n",
    "\n",
    "# Exibe a legenda e por padrão usa o label de cada plot.\n",
    "plt.legend()\n",
    "\n",
    "# Configurações do texto\n",
    "plt.text(1.00,1.0,'Cruzamento das Linhas',fontsize=10,horizontalalignment='right')\n",
    "\n",
    "plt.show()"
   ]
  },
  {
   "cell_type": "markdown",
   "metadata": {
    "colab_type": "text",
    "id": "OvZS7v9-S_GH"
   },
   "source": [
    "# Plotando Histogramas"
   ]
  },
  {
   "cell_type": "markdown",
   "metadata": {
    "colab_type": "text",
    "id": "_mwzb2997Gcw"
   },
   "source": [
    "* Histogramas são úteis quando queremos visualizar a distribuição de **uma** variável.\n",
    "* Esse é um gráfico muito utilizado em estatítica descritiva.\n",
    "* Facilita a visualização de dados extremos.\n",
    "* É útil em tarefas de **análise** e **exploração** de dados."
   ]
  },
  {
   "cell_type": "markdown",
   "metadata": {
    "colab_type": "text",
    "id": "ibk4aMdK7Gcx"
   },
   "source": [
    "**Gera dados aleatórios com média em torno de 0 e desvio padrão em torno de 1**"
   ]
  },
  {
   "cell_type": "code",
   "execution_count": null,
   "metadata": {
    "colab": {},
    "colab_type": "code",
    "id": "Ff0fVWxkUhKL"
   },
   "outputs": [],
   "source": [
    "d = np.random.normal(0, 1, size=500)"
   ]
  },
  {
   "cell_type": "markdown",
   "metadata": {
    "colab_type": "text",
    "id": "EmPwHClH7Gc3"
   },
   "source": [
    "**Plota histograma com 10 bins**"
   ]
  },
  {
   "cell_type": "code",
   "execution_count": null,
   "metadata": {
    "colab": {
     "base_uri": "https://localhost:8080/",
     "height": 432
    },
    "colab_type": "code",
    "id": "euy4VsCvS-Ho",
    "outputId": "a390134a-eaf5-41dd-bdd9-d5c42c1fc5d7"
   },
   "outputs": [],
   "source": [
    "%matplotlib inline \n",
    "plt.hist(d, bins=10,color='r')"
   ]
  },
  {
   "cell_type": "markdown",
   "metadata": {
    "colab": {},
    "colab_type": "code",
    "id": "7uVvCcqnS-Kb"
   },
   "source": [
    "## Trabalhando com dataframes Pandas"
   ]
  },
  {
   "cell_type": "markdown",
   "metadata": {},
   "source": [
    "* O Matplotlib trabalha bem com o Pandas. \n",
    "* É possível usar recursos de dataframes usando o parâmetro **data**."
   ]
  },
  {
   "cell_type": "code",
   "execution_count": 7,
   "metadata": {},
   "outputs": [],
   "source": [
    "import pandas as pd"
   ]
  },
  {
   "cell_type": "markdown",
   "metadata": {},
   "source": [
    "** Cria um dicionário de valores**"
   ]
  },
  {
   "cell_type": "code",
   "execution_count": 12,
   "metadata": {},
   "outputs": [],
   "source": [
    "data = {'a': np.arange(50),\n",
    "        'c': np.random.randint(0, 50, 50),\n",
    "        'd': np.random.randn(50)\n",
    "       }"
   ]
  },
  {
   "cell_type": "code",
   "execution_count": 13,
   "metadata": {},
   "outputs": [],
   "source": [
    "data=pd.DataFrame(data)"
   ]
  },
  {
   "cell_type": "code",
   "execution_count": 14,
   "metadata": {},
   "outputs": [
    {
     "data": {
      "text/plain": [
       "pandas.core.frame.DataFrame"
      ]
     },
     "execution_count": 14,
     "metadata": {},
     "output_type": "execute_result"
    }
   ],
   "source": [
    "type(data)"
   ]
  },
  {
   "cell_type": "code",
   "execution_count": 15,
   "metadata": {},
   "outputs": [
    {
     "data": {
      "text/html": [
       "<div>\n",
       "<style scoped>\n",
       "    .dataframe tbody tr th:only-of-type {\n",
       "        vertical-align: middle;\n",
       "    }\n",
       "\n",
       "    .dataframe tbody tr th {\n",
       "        vertical-align: top;\n",
       "    }\n",
       "\n",
       "    .dataframe thead th {\n",
       "        text-align: right;\n",
       "    }\n",
       "</style>\n",
       "<table border=\"1\" class=\"dataframe\">\n",
       "  <thead>\n",
       "    <tr style=\"text-align: right;\">\n",
       "      <th></th>\n",
       "      <th>a</th>\n",
       "      <th>c</th>\n",
       "      <th>d</th>\n",
       "    </tr>\n",
       "  </thead>\n",
       "  <tbody>\n",
       "    <tr>\n",
       "      <th>0</th>\n",
       "      <td>0</td>\n",
       "      <td>28</td>\n",
       "      <td>-1.476589</td>\n",
       "    </tr>\n",
       "    <tr>\n",
       "      <th>1</th>\n",
       "      <td>1</td>\n",
       "      <td>20</td>\n",
       "      <td>2.085827</td>\n",
       "    </tr>\n",
       "    <tr>\n",
       "      <th>2</th>\n",
       "      <td>2</td>\n",
       "      <td>29</td>\n",
       "      <td>-0.006683</td>\n",
       "    </tr>\n",
       "    <tr>\n",
       "      <th>3</th>\n",
       "      <td>3</td>\n",
       "      <td>18</td>\n",
       "      <td>0.979617</td>\n",
       "    </tr>\n",
       "    <tr>\n",
       "      <th>4</th>\n",
       "      <td>4</td>\n",
       "      <td>31</td>\n",
       "      <td>-1.397741</td>\n",
       "    </tr>\n",
       "  </tbody>\n",
       "</table>\n",
       "</div>"
      ],
      "text/plain": [
       "   a   c         d\n",
       "0  0  28 -1.476589\n",
       "1  1  20  2.085827\n",
       "2  2  29 -0.006683\n",
       "3  3  18  0.979617\n",
       "4  4  31 -1.397741"
      ]
     },
     "execution_count": 15,
     "metadata": {},
     "output_type": "execute_result"
    }
   ],
   "source": [
    "data.head()"
   ]
  },
  {
   "cell_type": "markdown",
   "metadata": {},
   "source": [
    "** Gera dados aleatorios para coluna b e d**"
   ]
  },
  {
   "cell_type": "code",
   "execution_count": 17,
   "metadata": {},
   "outputs": [],
   "source": [
    "data['b'] = data['a'] + 10 * np.random.randn(50)\n",
    "data['d'] = np.abs(data['d']) * 200"
   ]
  },
  {
   "cell_type": "code",
   "execution_count": 18,
   "metadata": {},
   "outputs": [
    {
     "data": {
      "text/plain": [
       "0    -0.293349\n",
       "1    -7.964522\n",
       "2   -25.267139\n",
       "3     1.429822\n",
       "4    15.298081\n",
       "Name: b, dtype: float64"
      ]
     },
     "execution_count": 18,
     "metadata": {},
     "output_type": "execute_result"
    }
   ],
   "source": [
    "data.b.head()"
   ]
  },
  {
   "cell_type": "markdown",
   "metadata": {},
   "source": [
    "**Dados Absolutos**"
   ]
  },
  {
   "cell_type": "code",
   "execution_count": 19,
   "metadata": {},
   "outputs": [
    {
     "data": {
      "text/plain": [
       "0    295.317807\n",
       "1    417.165499\n",
       "2      1.336603\n",
       "3    195.923485\n",
       "4    279.548187\n",
       "Name: d, dtype: float64"
      ]
     },
     "execution_count": 19,
     "metadata": {},
     "output_type": "execute_result"
    }
   ],
   "source": [
    "data.d.head()"
   ]
  },
  {
   "cell_type": "code",
   "execution_count": 20,
   "metadata": {},
   "outputs": [
    {
     "data": {
      "text/html": [
       "<div>\n",
       "<style scoped>\n",
       "    .dataframe tbody tr th:only-of-type {\n",
       "        vertical-align: middle;\n",
       "    }\n",
       "\n",
       "    .dataframe tbody tr th {\n",
       "        vertical-align: top;\n",
       "    }\n",
       "\n",
       "    .dataframe thead th {\n",
       "        text-align: right;\n",
       "    }\n",
       "</style>\n",
       "<table border=\"1\" class=\"dataframe\">\n",
       "  <thead>\n",
       "    <tr style=\"text-align: right;\">\n",
       "      <th></th>\n",
       "      <th>a</th>\n",
       "      <th>c</th>\n",
       "      <th>d</th>\n",
       "      <th>b</th>\n",
       "    </tr>\n",
       "  </thead>\n",
       "  <tbody>\n",
       "    <tr>\n",
       "      <th>0</th>\n",
       "      <td>0</td>\n",
       "      <td>28</td>\n",
       "      <td>295.317807</td>\n",
       "      <td>-0.293349</td>\n",
       "    </tr>\n",
       "    <tr>\n",
       "      <th>1</th>\n",
       "      <td>1</td>\n",
       "      <td>20</td>\n",
       "      <td>417.165499</td>\n",
       "      <td>-7.964522</td>\n",
       "    </tr>\n",
       "    <tr>\n",
       "      <th>2</th>\n",
       "      <td>2</td>\n",
       "      <td>29</td>\n",
       "      <td>1.336603</td>\n",
       "      <td>-25.267139</td>\n",
       "    </tr>\n",
       "    <tr>\n",
       "      <th>3</th>\n",
       "      <td>3</td>\n",
       "      <td>18</td>\n",
       "      <td>195.923485</td>\n",
       "      <td>1.429822</td>\n",
       "    </tr>\n",
       "    <tr>\n",
       "      <th>4</th>\n",
       "      <td>4</td>\n",
       "      <td>31</td>\n",
       "      <td>279.548187</td>\n",
       "      <td>15.298081</td>\n",
       "    </tr>\n",
       "  </tbody>\n",
       "</table>\n",
       "</div>"
      ],
      "text/plain": [
       "   a   c           d          b\n",
       "0  0  28  295.317807  -0.293349\n",
       "1  1  20  417.165499  -7.964522\n",
       "2  2  29    1.336603 -25.267139\n",
       "3  3  18  195.923485   1.429822\n",
       "4  4  31  279.548187  15.298081"
      ]
     },
     "execution_count": 20,
     "metadata": {},
     "output_type": "execute_result"
    }
   ],
   "source": [
    "data.head()"
   ]
  },
  {
   "cell_type": "markdown",
   "metadata": {},
   "source": [
    "**Plota gráfico de disperssão usando pandas dataframe**"
   ]
  },
  {
   "cell_type": "code",
   "execution_count": 22,
   "metadata": {
    "colab": {
     "base_uri": "https://localhost:8080/",
     "height": 361
    },
    "colab_type": "code",
    "id": "v4rdlHi3Td3y",
    "outputId": "8a496853-5f4e-45f2-d605-966848f11c8e"
   },
   "outputs": [
    {
     "data": {
      "image/png": "[encoded data removed]",
      "text/plain": [
       "<Figure size 432x288 with 1 Axes>"
      ]
     },
     "metadata": {
      "needs_background": "light"
     },
     "output_type": "display_data"
    }
   ],
   "source": [
    "plt.scatter('a','b',c='c',s='d',data=data)\n",
    "plt.xlabel('entry a')\n",
    "plt.ylabel('entry b')\n",
    "plt.show()"
   ]
  }
 ],
 "metadata": {
  "colab": {
   "name": "visualização-de-dados-01.ipynb",
   "provenance": [],
   "version": "0.3.2"
  },
  "kernelspec": {
   "display_name": "Python 3",
   "language": "python",
   "name": "python3"
  },
  "language_info": {
   "codemirror_mode": {
    "name": "ipython",
    "version": 3
   },
   "file_extension": ".py",
   "mimetype": "text/x-python",
   "name": "python",
   "nbconvert_exporter": "python",
   "pygments_lexer": "ipython3",
   "version": "3.7.6"
  }
 },
 "nbformat": 4,
 "nbformat_minor": 1
}
