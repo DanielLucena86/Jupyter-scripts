{
 "cells": [
  {
   "cell_type": "markdown",
   "metadata": {},
   "source": [
    "# Machine Learning - Random Forest (Floresta Aleatória)"
   ]
  },
  {
   "cell_type": "markdown",
   "metadata": {},
   "source": [
    "#### Importação das bibliotecas necessárias"
   ]
  },
  {
   "cell_type": "code",
   "execution_count": 1,
   "metadata": {},
   "outputs": [],
   "source": [
    "from sklearn.tree import export_graphviz\n",
    "from sklearn.ensemble import RandomForestClassifier\n",
    "from sklearn.preprocessing import LabelEncoder\n",
    "import numpy as np\n",
    "import pandas as pd\n",
    "import matplotlib.pyplot as plt\n",
    "import seaborn as sns"
   ]
  },
  {
   "cell_type": "markdown",
   "metadata": {},
   "source": [
    "#### Carregando a base de dados."
   ]
  },
  {
   "cell_type": "code",
   "execution_count": 2,
   "metadata": {},
   "outputs": [
    {
     "data": {
      "text/html": [
       "<div>\n",
       "<style scoped>\n",
       "    .dataframe tbody tr th:only-of-type {\n",
       "        vertical-align: middle;\n",
       "    }\n",
       "\n",
       "    .dataframe tbody tr th {\n",
       "        vertical-align: top;\n",
       "    }\n",
       "\n",
       "    .dataframe thead th {\n",
       "        text-align: right;\n",
       "    }\n",
       "</style>\n",
       "<table border=\"1\" class=\"dataframe\">\n",
       "  <thead>\n",
       "    <tr style=\"text-align: right;\">\n",
       "      <th></th>\n",
       "      <th>gender</th>\n",
       "      <th>NationalITy</th>\n",
       "      <th>PlaceofBirth</th>\n",
       "      <th>StageID</th>\n",
       "      <th>GradeID</th>\n",
       "      <th>SectionID</th>\n",
       "      <th>Topic</th>\n",
       "      <th>Semester</th>\n",
       "      <th>Relation</th>\n",
       "      <th>raisedhands</th>\n",
       "      <th>VisITedResources</th>\n",
       "      <th>AnnouncementsView</th>\n",
       "      <th>Discussion</th>\n",
       "      <th>ParentAnsweringSurvey</th>\n",
       "      <th>ParentschoolSatisfaction</th>\n",
       "      <th>StudentAbsenceDays</th>\n",
       "      <th>Class</th>\n",
       "    </tr>\n",
       "  </thead>\n",
       "  <tbody>\n",
       "    <tr>\n",
       "      <th>0</th>\n",
       "      <td>M</td>\n",
       "      <td>KW</td>\n",
       "      <td>KuwaIT</td>\n",
       "      <td>lowerlevel</td>\n",
       "      <td>G-04</td>\n",
       "      <td>A</td>\n",
       "      <td>IT</td>\n",
       "      <td>F</td>\n",
       "      <td>Father</td>\n",
       "      <td>15</td>\n",
       "      <td>16</td>\n",
       "      <td>2</td>\n",
       "      <td>20</td>\n",
       "      <td>Yes</td>\n",
       "      <td>Good</td>\n",
       "      <td>Under-7</td>\n",
       "      <td>M</td>\n",
       "    </tr>\n",
       "    <tr>\n",
       "      <th>1</th>\n",
       "      <td>M</td>\n",
       "      <td>KW</td>\n",
       "      <td>KuwaIT</td>\n",
       "      <td>lowerlevel</td>\n",
       "      <td>G-04</td>\n",
       "      <td>A</td>\n",
       "      <td>IT</td>\n",
       "      <td>F</td>\n",
       "      <td>Father</td>\n",
       "      <td>20</td>\n",
       "      <td>20</td>\n",
       "      <td>3</td>\n",
       "      <td>25</td>\n",
       "      <td>Yes</td>\n",
       "      <td>Good</td>\n",
       "      <td>Under-7</td>\n",
       "      <td>M</td>\n",
       "    </tr>\n",
       "    <tr>\n",
       "      <th>2</th>\n",
       "      <td>M</td>\n",
       "      <td>KW</td>\n",
       "      <td>KuwaIT</td>\n",
       "      <td>lowerlevel</td>\n",
       "      <td>G-04</td>\n",
       "      <td>A</td>\n",
       "      <td>IT</td>\n",
       "      <td>F</td>\n",
       "      <td>Father</td>\n",
       "      <td>10</td>\n",
       "      <td>7</td>\n",
       "      <td>0</td>\n",
       "      <td>30</td>\n",
       "      <td>No</td>\n",
       "      <td>Bad</td>\n",
       "      <td>Above-7</td>\n",
       "      <td>L</td>\n",
       "    </tr>\n",
       "    <tr>\n",
       "      <th>3</th>\n",
       "      <td>M</td>\n",
       "      <td>KW</td>\n",
       "      <td>KuwaIT</td>\n",
       "      <td>lowerlevel</td>\n",
       "      <td>G-04</td>\n",
       "      <td>A</td>\n",
       "      <td>IT</td>\n",
       "      <td>F</td>\n",
       "      <td>Father</td>\n",
       "      <td>30</td>\n",
       "      <td>25</td>\n",
       "      <td>5</td>\n",
       "      <td>35</td>\n",
       "      <td>No</td>\n",
       "      <td>Bad</td>\n",
       "      <td>Above-7</td>\n",
       "      <td>L</td>\n",
       "    </tr>\n",
       "    <tr>\n",
       "      <th>4</th>\n",
       "      <td>M</td>\n",
       "      <td>KW</td>\n",
       "      <td>KuwaIT</td>\n",
       "      <td>lowerlevel</td>\n",
       "      <td>G-04</td>\n",
       "      <td>A</td>\n",
       "      <td>IT</td>\n",
       "      <td>F</td>\n",
       "      <td>Father</td>\n",
       "      <td>40</td>\n",
       "      <td>50</td>\n",
       "      <td>12</td>\n",
       "      <td>50</td>\n",
       "      <td>No</td>\n",
       "      <td>Bad</td>\n",
       "      <td>Above-7</td>\n",
       "      <td>M</td>\n",
       "    </tr>\n",
       "  </tbody>\n",
       "</table>\n",
       "</div>"
      ],
      "text/plain": [
       "  gender NationalITy PlaceofBirth     StageID GradeID SectionID Topic  \\\n",
       "0      M          KW       KuwaIT  lowerlevel    G-04         A    IT   \n",
       "1      M          KW       KuwaIT  lowerlevel    G-04         A    IT   \n",
       "2      M          KW       KuwaIT  lowerlevel    G-04         A    IT   \n",
       "3      M          KW       KuwaIT  lowerlevel    G-04         A    IT   \n",
       "4      M          KW       KuwaIT  lowerlevel    G-04         A    IT   \n",
       "\n",
       "  Semester Relation  raisedhands  VisITedResources  AnnouncementsView  \\\n",
       "0        F   Father           15                16                  2   \n",
       "1        F   Father           20                20                  3   \n",
       "2        F   Father           10                 7                  0   \n",
       "3        F   Father           30                25                  5   \n",
       "4        F   Father           40                50                 12   \n",
       "\n",
       "   Discussion ParentAnsweringSurvey ParentschoolSatisfaction  \\\n",
       "0          20                   Yes                     Good   \n",
       "1          25                   Yes                     Good   \n",
       "2          30                    No                      Bad   \n",
       "3          35                    No                      Bad   \n",
       "4          50                    No                      Bad   \n",
       "\n",
       "  StudentAbsenceDays Class  \n",
       "0            Under-7     M  \n",
       "1            Under-7     M  \n",
       "2            Above-7     L  \n",
       "3            Above-7     L  \n",
       "4            Above-7     M  "
      ]
     },
     "execution_count": 2,
     "metadata": {},
     "output_type": "execute_result"
    }
   ],
   "source": [
    "df_edu=pd.read_csv(r'C:\\Users\\Daniel\\random-forest-materiais-apoio\\random-forest-materiais-apoio\\xAPI-Edu-Data.csv')\n",
    "df_edu.head()"
   ]
  },
  {
   "cell_type": "markdown",
   "metadata": {},
   "source": [
    "#### Verificando as distribuições de classes."
   ]
  },
  {
   "cell_type": "code",
   "execution_count": 3,
   "metadata": {},
   "outputs": [
    {
     "data": {
      "text/plain": [
       "M    211\n",
       "H    142\n",
       "L    127\n",
       "Name: Class, dtype: int64"
      ]
     },
     "execution_count": 3,
     "metadata": {},
     "output_type": "execute_result"
    }
   ],
   "source": [
    "df_edu['Class'].value_counts()"
   ]
  },
  {
   "cell_type": "markdown",
   "metadata": {},
   "source": [
    "#### Verificando os registros nulos"
   ]
  },
  {
   "cell_type": "code",
   "execution_count": 4,
   "metadata": {},
   "outputs": [
    {
     "data": {
      "text/plain": [
       "gender                      0\n",
       "NationalITy                 0\n",
       "PlaceofBirth                0\n",
       "StageID                     0\n",
       "GradeID                     0\n",
       "SectionID                   0\n",
       "Topic                       0\n",
       "Semester                    0\n",
       "Relation                    0\n",
       "raisedhands                 0\n",
       "VisITedResources            0\n",
       "AnnouncementsView           0\n",
       "Discussion                  0\n",
       "ParentAnsweringSurvey       0\n",
       "ParentschoolSatisfaction    0\n",
       "StudentAbsenceDays          0\n",
       "Class                       0\n",
       "dtype: int64"
      ]
     },
     "execution_count": 4,
     "metadata": {},
     "output_type": "execute_result"
    }
   ],
   "source": [
    "df_edu.isnull().sum()"
   ]
  },
  {
   "cell_type": "markdown",
   "metadata": {},
   "source": [
    "#### Codificando os atributos numéricos."
   ]
  },
  {
   "cell_type": "code",
   "execution_count": 5,
   "metadata": {},
   "outputs": [],
   "source": [
    "Features=df_edu\n",
    "cat_columns=Features.dtypes.pipe(lambda Features:Features[Features=='object']).index\n",
    "for col in cat_columns:\n",
    "    label=LabelEncoder()\n",
    "    Features[col]=label.fit_transform(Features[col])"
   ]
  },
  {
   "cell_type": "code",
   "execution_count": 6,
   "metadata": {},
   "outputs": [
    {
     "data": {
      "text/html": [
       "<div>\n",
       "<style scoped>\n",
       "    .dataframe tbody tr th:only-of-type {\n",
       "        vertical-align: middle;\n",
       "    }\n",
       "\n",
       "    .dataframe tbody tr th {\n",
       "        vertical-align: top;\n",
       "    }\n",
       "\n",
       "    .dataframe thead th {\n",
       "        text-align: right;\n",
       "    }\n",
       "</style>\n",
       "<table border=\"1\" class=\"dataframe\">\n",
       "  <thead>\n",
       "    <tr style=\"text-align: right;\">\n",
       "      <th></th>\n",
       "      <th>gender</th>\n",
       "      <th>NationalITy</th>\n",
       "      <th>PlaceofBirth</th>\n",
       "      <th>StageID</th>\n",
       "      <th>GradeID</th>\n",
       "      <th>SectionID</th>\n",
       "      <th>Topic</th>\n",
       "      <th>Semester</th>\n",
       "      <th>Relation</th>\n",
       "      <th>raisedhands</th>\n",
       "      <th>VisITedResources</th>\n",
       "      <th>AnnouncementsView</th>\n",
       "      <th>Discussion</th>\n",
       "      <th>ParentAnsweringSurvey</th>\n",
       "      <th>ParentschoolSatisfaction</th>\n",
       "      <th>StudentAbsenceDays</th>\n",
       "      <th>Class</th>\n",
       "    </tr>\n",
       "  </thead>\n",
       "  <tbody>\n",
       "    <tr>\n",
       "      <th>0</th>\n",
       "      <td>1</td>\n",
       "      <td>4</td>\n",
       "      <td>4</td>\n",
       "      <td>2</td>\n",
       "      <td>1</td>\n",
       "      <td>0</td>\n",
       "      <td>7</td>\n",
       "      <td>0</td>\n",
       "      <td>0</td>\n",
       "      <td>15</td>\n",
       "      <td>16</td>\n",
       "      <td>2</td>\n",
       "      <td>20</td>\n",
       "      <td>1</td>\n",
       "      <td>1</td>\n",
       "      <td>1</td>\n",
       "      <td>2</td>\n",
       "    </tr>\n",
       "    <tr>\n",
       "      <th>1</th>\n",
       "      <td>1</td>\n",
       "      <td>4</td>\n",
       "      <td>4</td>\n",
       "      <td>2</td>\n",
       "      <td>1</td>\n",
       "      <td>0</td>\n",
       "      <td>7</td>\n",
       "      <td>0</td>\n",
       "      <td>0</td>\n",
       "      <td>20</td>\n",
       "      <td>20</td>\n",
       "      <td>3</td>\n",
       "      <td>25</td>\n",
       "      <td>1</td>\n",
       "      <td>1</td>\n",
       "      <td>1</td>\n",
       "      <td>2</td>\n",
       "    </tr>\n",
       "    <tr>\n",
       "      <th>2</th>\n",
       "      <td>1</td>\n",
       "      <td>4</td>\n",
       "      <td>4</td>\n",
       "      <td>2</td>\n",
       "      <td>1</td>\n",
       "      <td>0</td>\n",
       "      <td>7</td>\n",
       "      <td>0</td>\n",
       "      <td>0</td>\n",
       "      <td>10</td>\n",
       "      <td>7</td>\n",
       "      <td>0</td>\n",
       "      <td>30</td>\n",
       "      <td>0</td>\n",
       "      <td>0</td>\n",
       "      <td>0</td>\n",
       "      <td>1</td>\n",
       "    </tr>\n",
       "    <tr>\n",
       "      <th>3</th>\n",
       "      <td>1</td>\n",
       "      <td>4</td>\n",
       "      <td>4</td>\n",
       "      <td>2</td>\n",
       "      <td>1</td>\n",
       "      <td>0</td>\n",
       "      <td>7</td>\n",
       "      <td>0</td>\n",
       "      <td>0</td>\n",
       "      <td>30</td>\n",
       "      <td>25</td>\n",
       "      <td>5</td>\n",
       "      <td>35</td>\n",
       "      <td>0</td>\n",
       "      <td>0</td>\n",
       "      <td>0</td>\n",
       "      <td>1</td>\n",
       "    </tr>\n",
       "    <tr>\n",
       "      <th>4</th>\n",
       "      <td>1</td>\n",
       "      <td>4</td>\n",
       "      <td>4</td>\n",
       "      <td>2</td>\n",
       "      <td>1</td>\n",
       "      <td>0</td>\n",
       "      <td>7</td>\n",
       "      <td>0</td>\n",
       "      <td>0</td>\n",
       "      <td>40</td>\n",
       "      <td>50</td>\n",
       "      <td>12</td>\n",
       "      <td>50</td>\n",
       "      <td>0</td>\n",
       "      <td>0</td>\n",
       "      <td>0</td>\n",
       "      <td>2</td>\n",
       "    </tr>\n",
       "  </tbody>\n",
       "</table>\n",
       "</div>"
      ],
      "text/plain": [
       "   gender  NationalITy  PlaceofBirth  StageID  GradeID  SectionID  Topic  \\\n",
       "0       1            4             4        2        1          0      7   \n",
       "1       1            4             4        2        1          0      7   \n",
       "2       1            4             4        2        1          0      7   \n",
       "3       1            4             4        2        1          0      7   \n",
       "4       1            4             4        2        1          0      7   \n",
       "\n",
       "   Semester  Relation  raisedhands  VisITedResources  AnnouncementsView  \\\n",
       "0         0         0           15                16                  2   \n",
       "1         0         0           20                20                  3   \n",
       "2         0         0           10                 7                  0   \n",
       "3         0         0           30                25                  5   \n",
       "4         0         0           40                50                 12   \n",
       "\n",
       "   Discussion  ParentAnsweringSurvey  ParentschoolSatisfaction  \\\n",
       "0          20                      1                         1   \n",
       "1          25                      1                         1   \n",
       "2          30                      0                         0   \n",
       "3          35                      0                         0   \n",
       "4          50                      0                         0   \n",
       "\n",
       "   StudentAbsenceDays  Class  \n",
       "0                   1      2  \n",
       "1                   1      2  \n",
       "2                   0      1  \n",
       "3                   0      1  \n",
       "4                   0      2  "
      ]
     },
     "execution_count": 6,
     "metadata": {},
     "output_type": "execute_result"
    }
   ],
   "source": [
    "Features.head()"
   ]
  },
  {
   "cell_type": "markdown",
   "metadata": {},
   "source": [
    "#### Dividindo os dados em treino e teste"
   ]
  },
  {
   "cell_type": "code",
   "execution_count": 7,
   "metadata": {},
   "outputs": [],
   "source": [
    "from sklearn.model_selection import train_test_split"
   ]
  },
  {
   "cell_type": "code",
   "execution_count": 8,
   "metadata": {},
   "outputs": [],
   "source": [
    "X_train,X_test,y_train,y_test=train_test_split(df_edu.drop('Class',axis=1),df_edu['Class'],test_size=0.3,random_state=0)"
   ]
  },
  {
   "cell_type": "markdown",
   "metadata": {},
   "source": [
    "#### Verificando a forma dos dados"
   ]
  },
  {
   "cell_type": "code",
   "execution_count": 9,
   "metadata": {},
   "outputs": [
    {
     "data": {
      "text/plain": [
       "((336, 16), (144, 16))"
      ]
     },
     "execution_count": 9,
     "metadata": {},
     "output_type": "execute_result"
    }
   ],
   "source": [
    "X_train.shape,X_test.shape"
   ]
  },
  {
   "cell_type": "code",
   "execution_count": 10,
   "metadata": {},
   "outputs": [
    {
     "data": {
      "text/plain": [
       "((336,), (144,))"
      ]
     },
     "execution_count": 10,
     "metadata": {},
     "output_type": "execute_result"
    }
   ],
   "source": [
    "y_train.shape,y_test.shape"
   ]
  },
  {
   "cell_type": "markdown",
   "metadata": {},
   "source": [
    "#### Instânciando o objeto classificador"
   ]
  },
  {
   "cell_type": "code",
   "execution_count": 11,
   "metadata": {},
   "outputs": [],
   "source": [
    "random_clf=RandomForestClassifier()"
   ]
  },
  {
   "cell_type": "markdown",
   "metadata": {},
   "source": [
    "#### Parâmetros do  objeto RandomForestClassifier\n",
    "* <span style=\"color:red\">n_estimators: número de árvores que serão criadas na floresta.</span>\n",
    "* <span style=\"color:red\"> bootstrap: se será considerado o bootstrap dataset durante a criação das árvores.</span>\n",
    "* <span style=\"color:red\"> max_features: número total de features que as árvores serão criadas.</span>\n",
    "* criterion: medida de qualidade da divisão.\n",
    "* splitter: estratégia utilizada para dividir o nó de decisão.\n",
    "* max_depth: profundidade máxima da árvore.\n",
    "* min_samples_split: número de amostras mínimas para considerar um nó para divisão.\n",
    "* min_samples_leaf: número de amostras mínimas no nível folha."
   ]
  },
  {
   "cell_type": "markdown",
   "metadata": {},
   "source": [
    "#### Treinando o modelo Random Forest"
   ]
  },
  {
   "cell_type": "code",
   "execution_count": 12,
   "metadata": {},
   "outputs": [
    {
     "data": {
      "text/plain": [
       "RandomForestClassifier(bootstrap=True, ccp_alpha=0.0, class_weight=None,\n",
       "                       criterion='gini', max_depth=None, max_features='auto',\n",
       "                       max_leaf_nodes=None, max_samples=None,\n",
       "                       min_impurity_decrease=0.0, min_impurity_split=None,\n",
       "                       min_samples_leaf=1, min_samples_split=2,\n",
       "                       min_weight_fraction_leaf=0.0, n_estimators=100,\n",
       "                       n_jobs=None, oob_score=False, random_state=None,\n",
       "                       verbose=0, warm_start=False)"
      ]
     },
     "execution_count": 12,
     "metadata": {},
     "output_type": "execute_result"
    }
   ],
   "source": [
    "random_clf.fit(X_train,y_train)"
   ]
  },
  {
   "cell_type": "markdown",
   "metadata": {},
   "source": [
    "#### Predizendo as classes a partir do modelo treinado utilizando o conjunto de teste"
   ]
  },
  {
   "cell_type": "code",
   "execution_count": 13,
   "metadata": {},
   "outputs": [
    {
     "data": {
      "text/plain": [
       "array([2, 1, 1, 2, 2, 2, 0, 1, 1, 1, 0, 2, 0, 1, 2, 2, 0, 1, 1, 0, 1, 0,\n",
       "       2, 2, 2, 0, 0, 2, 2, 1, 2, 1, 0, 2, 2, 2, 0, 0, 2, 2, 2, 1, 0, 0,\n",
       "       2, 2, 0, 2, 1, 2, 2, 2, 0, 1, 0, 2, 1, 1, 2, 2, 2, 2, 0, 0, 0, 2,\n",
       "       1, 2, 1, 1, 1, 1, 0, 1, 0, 1, 0, 1, 2, 1, 0, 2, 2, 1, 1, 0, 2, 0,\n",
       "       2, 0, 2, 0, 0, 0, 2, 2, 1, 0, 1, 2, 1, 0, 2, 1, 2, 0, 1, 0, 1, 2,\n",
       "       1, 2, 1, 1, 0, 2, 1, 2, 2, 0, 2, 2, 2, 2, 2, 2, 2, 2, 1, 2, 2, 1,\n",
       "       0, 2, 2, 0, 2, 2, 2, 0, 2, 2, 2, 0])"
      ]
     },
     "execution_count": 13,
     "metadata": {},
     "output_type": "execute_result"
    }
   ],
   "source": [
    "resultado=random_clf.predict(X_test)\n",
    "resultado"
   ]
  },
  {
   "cell_type": "markdown",
   "metadata": {},
   "source": [
    "#### Métricas de Validação"
   ]
  },
  {
   "cell_type": "code",
   "execution_count": 14,
   "metadata": {},
   "outputs": [
    {
     "name": "stdout",
     "output_type": "stream",
     "text": [
      "              precision    recall  f1-score   support\n",
      "\n",
      "           0       0.69      0.69      0.69        39\n",
      "           1       0.82      0.94      0.88        34\n",
      "           2       0.79      0.73      0.76        71\n",
      "\n",
      "    accuracy                           0.77       144\n",
      "   macro avg       0.77      0.79      0.78       144\n",
      "weighted avg       0.77      0.77      0.77       144\n",
      "\n"
     ]
    }
   ],
   "source": [
    "from sklearn import metrics\n",
    "print(metrics.classification_report(y_test,resultado))"
   ]
  },
  {
   "cell_type": "markdown",
   "metadata": {},
   "source": [
    "#### Verificando as features mais importantes para o modelo treinado"
   ]
  },
  {
   "cell_type": "code",
   "execution_count": 18,
   "metadata": {},
   "outputs": [
    {
     "data": {
      "text/plain": [
       "array([0.02470115, 0.03619921, 0.03588422, 0.01625146, 0.03202334,\n",
       "       0.02420804, 0.0390061 , 0.01184193, 0.05063861, 0.1555754 ,\n",
       "       0.17822743, 0.11935804, 0.08992255, 0.03434358, 0.02182702,\n",
       "       0.12999193])"
      ]
     },
     "execution_count": 18,
     "metadata": {},
     "output_type": "execute_result"
    }
   ],
   "source": [
    "random_clf.feature_importances_"
   ]
  },
  {
   "cell_type": "code",
   "execution_count": 20,
   "metadata": {},
   "outputs": [],
   "source": [
    "feature_imp=pd.Series(random_clf.feature_importances_,index=X_train.columns).sort_values(ascending=False)"
   ]
  },
  {
   "cell_type": "code",
   "execution_count": 21,
   "metadata": {},
   "outputs": [
    {
     "data": {
      "text/plain": [
       "VisITedResources            0.178227\n",
       "raisedhands                 0.155575\n",
       "StudentAbsenceDays          0.129992\n",
       "AnnouncementsView           0.119358\n",
       "Discussion                  0.089923\n",
       "Relation                    0.050639\n",
       "Topic                       0.039006\n",
       "NationalITy                 0.036199\n",
       "PlaceofBirth                0.035884\n",
       "ParentAnsweringSurvey       0.034344\n",
       "GradeID                     0.032023\n",
       "gender                      0.024701\n",
       "SectionID                   0.024208\n",
       "ParentschoolSatisfaction    0.021827\n",
       "StageID                     0.016251\n",
       "Semester                    0.011842\n",
       "dtype: float64"
      ]
     },
     "execution_count": 21,
     "metadata": {},
     "output_type": "execute_result"
    }
   ],
   "source": [
    "feature_imp"
   ]
  },
  {
   "cell_type": "markdown",
   "metadata": {},
   "source": [
    "#### Features mais importantes de forma gráfica"
   ]
  },
  {
   "cell_type": "code",
   "execution_count": 36,
   "metadata": {},
   "outputs": [],
   "source": [
    "%matplotlib inline\n",
    "def visualiza_features_importantes(features_lista):\n",
    "    plt.figure(figsize=(16,10))\n",
    "    sns.barplot(x=features_lista,y=features_lista.index)\n",
    "    plt.xlabel('Feature Importance Score')\n",
    "    plt.ylabel('Features')\n",
    "    plt.title('Importance of the Features')\n",
    "    plt.show()    "
   ]
  },
  {
   "cell_type": "code",
   "execution_count": 35,
   "metadata": {},
   "outputs": [
    {
     "data": {
      "application/javascript": [
       "/* Put everything inside the global mpl namespace */\n",
       "window.mpl = {};\n",
       "\n",
       "\n",
       "mpl.get_websocket_type = function() {\n",
       "    if (typeof(WebSocket) !== 'undefined') {\n",
       "        return WebSocket;\n",
       "    } else if (typeof(MozWebSocket) !== 'undefined') {\n",
       "        return MozWebSocket;\n",
       "    } else {\n",
       "        alert('Your browser does not have WebSocket support. ' +\n",
       "              'Please try Chrome, Safari or Firefox ≥ 6. ' +\n",
       "              'Firefox 4 and 5 are also supported but you ' +\n",
       "              'have to enable WebSockets in about:config.');\n",
       "    };\n",
       "}\n",
       "\n",
       "mpl.figure = function(figure_id, websocket, ondownload, parent_element) {\n",
       "    this.id = figure_id;\n",
       "\n",
       "    this.ws = websocket;\n",
       "\n",
       "    this.supports_binary = (this.ws.binaryType != undefined);\n",
       "\n",
       "    if (!this.supports_binary) {\n",
       "        var warnings = document.getElementById(\"mpl-warnings\");\n",
       "        if (warnings) {\n",
       "            warnings.style.display = 'block';\n",
       "            warnings.textContent = (\n",
       "                \"This browser does not support binary websocket messages. \" +\n",
       "                    \"Performance may be slow.\");\n",
       "        }\n",
       "    }\n",
       "\n",
       "    this.imageObj = new Image();\n",
       "\n",
       "    this.context = undefined;\n",
       "    this.message = undefined;\n",
       "    this.canvas = undefined;\n",
       "    this.rubberband_canvas = undefined;\n",
       "    this.rubberband_context = undefined;\n",
       "    this.format_dropdown = undefined;\n",
       "\n",
       "    this.image_mode = 'full';\n",
       "\n",
       "    this.root = $('<div/>');\n",
       "    this._root_extra_style(this.root)\n",
       "    this.root.attr('style', 'display: inline-block');\n",
       "\n",
       "    $(parent_element).append(this.root);\n",
       "\n",
       "    this._init_header(this);\n",
       "    this._init_canvas(this);\n",
       "    this._init_toolbar(this);\n",
       "\n",
       "    var fig = this;\n",
       "\n",
       "    this.waiting = false;\n",
       "\n",
       "    this.ws.onopen =  function () {\n",
       "            fig.send_message(\"supports_binary\", {value: fig.supports_binary});\n",
       "            fig.send_message(\"send_image_mode\", {});\n",
       "            if (mpl.ratio != 1) {\n",
       "                fig.send_message(\"set_dpi_ratio\", {'dpi_ratio': mpl.ratio});\n",
       "            }\n",
       "            fig.send_message(\"refresh\", {});\n",
       "        }\n",
       "\n",
       "    this.imageObj.onload = function() {\n",
       "            if (fig.image_mode == 'full') {\n",
       "                // Full images could contain transparency (where diff images\n",
       "                // almost always do), so we need to clear the canvas so that\n",
       "                // there is no ghosting.\n",
       "                fig.context.clearRect(0, 0, fig.canvas.width, fig.canvas.height);\n",
       "            }\n",
       "            fig.context.drawImage(fig.imageObj, 0, 0);\n",
       "        };\n",
       "\n",
       "    this.imageObj.onunload = function() {\n",
       "        fig.ws.close();\n",
       "    }\n",
       "\n",
       "    this.ws.onmessage = this._make_on_message_function(this);\n",
       "\n",
       "    this.ondownload = ondownload;\n",
       "}\n",
       "\n",
       "mpl.figure.prototype._init_header = function() {\n",
       "    var titlebar = $(\n",
       "        '<div class=\"ui-dialog-titlebar ui-widget-header ui-corner-all ' +\n",
       "        'ui-helper-clearfix\"/>');\n",
       "    var titletext = $(\n",
       "        '<div class=\"ui-dialog-title\" style=\"width: 100%; ' +\n",
       "        'text-align: center; padding: 3px;\"/>');\n",
       "    titlebar.append(titletext)\n",
       "    this.root.append(titlebar);\n",
       "    this.header = titletext[0];\n",
       "}\n",
       "\n",
       "\n",
       "\n",
       "mpl.figure.prototype._canvas_extra_style = function(canvas_div) {\n",
       "\n",
       "}\n",
       "\n",
       "\n",
       "mpl.figure.prototype._root_extra_style = function(canvas_div) {\n",
       "\n",
       "}\n",
       "\n",
       "mpl.figure.prototype._init_canvas = function() {\n",
       "    var fig = this;\n",
       "\n",
       "    var canvas_div = $('<div/>');\n",
       "\n",
       "    canvas_div.attr('style', 'position: relative; clear: both; outline: 0');\n",
       "\n",
       "    function canvas_keyboard_event(event) {\n",
       "        return fig.key_event(event, event['data']);\n",
       "    }\n",
       "\n",
       "    canvas_div.keydown('key_press', canvas_keyboard_event);\n",
       "    canvas_div.keyup('key_release', canvas_keyboard_event);\n",
       "    this.canvas_div = canvas_div\n",
       "    this._canvas_extra_style(canvas_div)\n",
       "    this.root.append(canvas_div);\n",
       "\n",
       "    var canvas = $('<canvas/>');\n",
       "    canvas.addClass('mpl-canvas');\n",
       "    canvas.attr('style', \"left: 0; top: 0; z-index: 0; outline: 0\")\n",
       "\n",
       "    this.canvas = canvas[0];\n",
       "    this.context = canvas[0].getContext(\"2d\");\n",
       "\n",
       "    var backingStore = this.context.backingStorePixelRatio ||\n",
       "\tthis.context.webkitBackingStorePixelRatio ||\n",
       "\tthis.context.mozBackingStorePixelRatio ||\n",
       "\tthis.context.msBackingStorePixelRatio ||\n",
       "\tthis.context.oBackingStorePixelRatio ||\n",
       "\tthis.context.backingStorePixelRatio || 1;\n",
       "\n",
       "    mpl.ratio = (window.devicePixelRatio || 1) / backingStore;\n",
       "\n",
       "    var rubberband = $('<canvas/>');\n",
       "    rubberband.attr('style', \"position: absolute; left: 0; top: 0; z-index: 1;\")\n",
       "\n",
       "    var pass_mouse_events = true;\n",
       "\n",
       "    canvas_div.resizable({\n",
       "        start: function(event, ui) {\n",
       "            pass_mouse_events = false;\n",
       "        },\n",
       "        resize: function(event, ui) {\n",
       "            fig.request_resize(ui.size.width, ui.size.height);\n",
       "        },\n",
       "        stop: function(event, ui) {\n",
       "            pass_mouse_events = true;\n",
       "            fig.request_resize(ui.size.width, ui.size.height);\n",
       "        },\n",
       "    });\n",
       "\n",
       "    function mouse_event_fn(event) {\n",
       "        if (pass_mouse_events)\n",
       "            return fig.mouse_event(event, event['data']);\n",
       "    }\n",
       "\n",
       "    rubberband.mousedown('button_press', mouse_event_fn);\n",
       "    rubberband.mouseup('button_release', mouse_event_fn);\n",
       "    // Throttle sequential mouse events to 1 every 20ms.\n",
       "    rubberband.mousemove('motion_notify', mouse_event_fn);\n",
       "\n",
       "    rubberband.mouseenter('figure_enter', mouse_event_fn);\n",
       "    rubberband.mouseleave('figure_leave', mouse_event_fn);\n",
       "\n",
       "    canvas_div.on(\"wheel\", function (event) {\n",
       "        event = event.originalEvent;\n",
       "        event['data'] = 'scroll'\n",
       "        if (event.deltaY < 0) {\n",
       "            event.step = 1;\n",
       "        } else {\n",
       "            event.step = -1;\n",
       "        }\n",
       "        mouse_event_fn(event);\n",
       "    });\n",
       "\n",
       "    canvas_div.append(canvas);\n",
       "    canvas_div.append(rubberband);\n",
       "\n",
       "    this.rubberband = rubberband;\n",
       "    this.rubberband_canvas = rubberband[0];\n",
       "    this.rubberband_context = rubberband[0].getContext(\"2d\");\n",
       "    this.rubberband_context.strokeStyle = \"#000000\";\n",
       "\n",
       "    this._resize_canvas = function(width, height) {\n",
       "        // Keep the size of the canvas, canvas container, and rubber band\n",
       "        // canvas in synch.\n",
       "        canvas_div.css('width', width)\n",
       "        canvas_div.css('height', height)\n",
       "\n",
       "        canvas.attr('width', width * mpl.ratio);\n",
       "        canvas.attr('height', height * mpl.ratio);\n",
       "        canvas.attr('style', 'width: ' + width + 'px; height: ' + height + 'px;');\n",
       "\n",
       "        rubberband.attr('width', width);\n",
       "        rubberband.attr('height', height);\n",
       "    }\n",
       "\n",
       "    // Set the figure to an initial 600x600px, this will subsequently be updated\n",
       "    // upon first draw.\n",
       "    this._resize_canvas(600, 600);\n",
       "\n",
       "    // Disable right mouse context menu.\n",
       "    $(this.rubberband_canvas).bind(\"contextmenu\",function(e){\n",
       "        return false;\n",
       "    });\n",
       "\n",
       "    function set_focus () {\n",
       "        canvas.focus();\n",
       "        canvas_div.focus();\n",
       "    }\n",
       "\n",
       "    window.setTimeout(set_focus, 100);\n",
       "}\n",
       "\n",
       "mpl.figure.prototype._init_toolbar = function() {\n",
       "    var fig = this;\n",
       "\n",
       "    var nav_element = $('<div/>');\n",
       "    nav_element.attr('style', 'width: 100%');\n",
       "    this.root.append(nav_element);\n",
       "\n",
       "    // Define a callback function for later on.\n",
       "    function toolbar_event(event) {\n",
       "        return fig.toolbar_button_onclick(event['data']);\n",
       "    }\n",
       "    function toolbar_mouse_event(event) {\n",
       "        return fig.toolbar_button_onmouseover(event['data']);\n",
       "    }\n",
       "\n",
       "    for(var toolbar_ind in mpl.toolbar_items) {\n",
       "        var name = mpl.toolbar_items[toolbar_ind][0];\n",
       "        var tooltip = mpl.toolbar_items[toolbar_ind][1];\n",
       "        var image = mpl.toolbar_items[toolbar_ind][2];\n",
       "        var method_name = mpl.toolbar_items[toolbar_ind][3];\n",
       "\n",
       "        if (!name) {\n",
       "            // put a spacer in here.\n",
       "            continue;\n",
       "        }\n",
       "        var button = $('<button/>');\n",
       "        button.addClass('ui-button ui-widget ui-state-default ui-corner-all ' +\n",
       "                        'ui-button-icon-only');\n",
       "        button.attr('role', 'button');\n",
       "        button.attr('aria-disabled', 'false');\n",
       "        button.click(method_name, toolbar_event);\n",
       "        button.mouseover(tooltip, toolbar_mouse_event);\n",
       "\n",
       "        var icon_img = $('<span/>');\n",
       "        icon_img.addClass('ui-button-icon-primary ui-icon');\n",
       "        icon_img.addClass(image);\n",
       "        icon_img.addClass('ui-corner-all');\n",
       "\n",
       "        var tooltip_span = $('<span/>');\n",
       "        tooltip_span.addClass('ui-button-text');\n",
       "        tooltip_span.html(tooltip);\n",
       "\n",
       "        button.append(icon_img);\n",
       "        button.append(tooltip_span);\n",
       "\n",
       "        nav_element.append(button);\n",
       "    }\n",
       "\n",
       "    var fmt_picker_span = $('<span/>');\n",
       "\n",
       "    var fmt_picker = $('<select/>');\n",
       "    fmt_picker.addClass('mpl-toolbar-option ui-widget ui-widget-content');\n",
       "    fmt_picker_span.append(fmt_picker);\n",
       "    nav_element.append(fmt_picker_span);\n",
       "    this.format_dropdown = fmt_picker[0];\n",
       "\n",
       "    for (var ind in mpl.extensions) {\n",
       "        var fmt = mpl.extensions[ind];\n",
       "        var option = $(\n",
       "            '<option/>', {selected: fmt === mpl.default_extension}).html(fmt);\n",
       "        fmt_picker.append(option);\n",
       "    }\n",
       "\n",
       "    // Add hover states to the ui-buttons\n",
       "    $( \".ui-button\" ).hover(\n",
       "        function() { $(this).addClass(\"ui-state-hover\");},\n",
       "        function() { $(this).removeClass(\"ui-state-hover\");}\n",
       "    );\n",
       "\n",
       "    var status_bar = $('<span class=\"mpl-message\"/>');\n",
       "    nav_element.append(status_bar);\n",
       "    this.message = status_bar[0];\n",
       "}\n",
       "\n",
       "mpl.figure.prototype.request_resize = function(x_pixels, y_pixels) {\n",
       "    // Request matplotlib to resize the figure. Matplotlib will then trigger a resize in the client,\n",
       "    // which will in turn request a refresh of the image.\n",
       "    this.send_message('resize', {'width': x_pixels, 'height': y_pixels});\n",
       "}\n",
       "\n",
       "mpl.figure.prototype.send_message = function(type, properties) {\n",
       "    properties['type'] = type;\n",
       "    properties['figure_id'] = this.id;\n",
       "    this.ws.send(JSON.stringify(properties));\n",
       "}\n",
       "\n",
       "mpl.figure.prototype.send_draw_message = function() {\n",
       "    if (!this.waiting) {\n",
       "        this.waiting = true;\n",
       "        this.ws.send(JSON.stringify({type: \"draw\", figure_id: this.id}));\n",
       "    }\n",
       "}\n",
       "\n",
       "\n",
       "mpl.figure.prototype.handle_save = function(fig, msg) {\n",
       "    var format_dropdown = fig.format_dropdown;\n",
       "    var format = format_dropdown.options[format_dropdown.selectedIndex].value;\n",
       "    fig.ondownload(fig, format);\n",
       "}\n",
       "\n",
       "\n",
       "mpl.figure.prototype.handle_resize = function(fig, msg) {\n",
       "    var size = msg['size'];\n",
       "    if (size[0] != fig.canvas.width || size[1] != fig.canvas.height) {\n",
       "        fig._resize_canvas(size[0], size[1]);\n",
       "        fig.send_message(\"refresh\", {});\n",
       "    };\n",
       "}\n",
       "\n",
       "mpl.figure.prototype.handle_rubberband = function(fig, msg) {\n",
       "    var x0 = msg['x0'] / mpl.ratio;\n",
       "    var y0 = (fig.canvas.height - msg['y0']) / mpl.ratio;\n",
       "    var x1 = msg['x1'] / mpl.ratio;\n",
       "    var y1 = (fig.canvas.height - msg['y1']) / mpl.ratio;\n",
       "    x0 = Math.floor(x0) + 0.5;\n",
       "    y0 = Math.floor(y0) + 0.5;\n",
       "    x1 = Math.floor(x1) + 0.5;\n",
       "    y1 = Math.floor(y1) + 0.5;\n",
       "    var min_x = Math.min(x0, x1);\n",
       "    var min_y = Math.min(y0, y1);\n",
       "    var width = Math.abs(x1 - x0);\n",
       "    var height = Math.abs(y1 - y0);\n",
       "\n",
       "    fig.rubberband_context.clearRect(\n",
       "        0, 0, fig.canvas.width / mpl.ratio, fig.canvas.height / mpl.ratio);\n",
       "\n",
       "    fig.rubberband_context.strokeRect(min_x, min_y, width, height);\n",
       "}\n",
       "\n",
       "mpl.figure.prototype.handle_figure_label = function(fig, msg) {\n",
       "    // Updates the figure title.\n",
       "    fig.header.textContent = msg['label'];\n",
       "}\n",
       "\n",
       "mpl.figure.prototype.handle_cursor = function(fig, msg) {\n",
       "    var cursor = msg['cursor'];\n",
       "    switch(cursor)\n",
       "    {\n",
       "    case 0:\n",
       "        cursor = 'pointer';\n",
       "        break;\n",
       "    case 1:\n",
       "        cursor = 'default';\n",
       "        break;\n",
       "    case 2:\n",
       "        cursor = 'crosshair';\n",
       "        break;\n",
       "    case 3:\n",
       "        cursor = 'move';\n",
       "        break;\n",
       "    }\n",
       "    fig.rubberband_canvas.style.cursor = cursor;\n",
       "}\n",
       "\n",
       "mpl.figure.prototype.handle_message = function(fig, msg) {\n",
       "    fig.message.textContent = msg['message'];\n",
       "}\n",
       "\n",
       "mpl.figure.prototype.handle_draw = function(fig, msg) {\n",
       "    // Request the server to send over a new figure.\n",
       "    fig.send_draw_message();\n",
       "}\n",
       "\n",
       "mpl.figure.prototype.handle_image_mode = function(fig, msg) {\n",
       "    fig.image_mode = msg['mode'];\n",
       "}\n",
       "\n",
       "mpl.figure.prototype.updated_canvas_event = function() {\n",
       "    // Called whenever the canvas gets updated.\n",
       "    this.send_message(\"ack\", {});\n",
       "}\n",
       "\n",
       "// A function to construct a web socket function for onmessage handling.\n",
       "// Called in the figure constructor.\n",
       "mpl.figure.prototype._make_on_message_function = function(fig) {\n",
       "    return function socket_on_message(evt) {\n",
       "        if (evt.data instanceof Blob) {\n",
       "            /* FIXME: We get \"Resource interpreted as Image but\n",
       "             * transferred with MIME type text/plain:\" errors on\n",
       "             * Chrome.  But how to set the MIME type?  It doesn't seem\n",
       "             * to be part of the websocket stream */\n",
       "            evt.data.type = \"image/png\";\n",
       "\n",
       "            /* Free the memory for the previous frames */\n",
       "            if (fig.imageObj.src) {\n",
       "                (window.URL || window.webkitURL).revokeObjectURL(\n",
       "                    fig.imageObj.src);\n",
       "            }\n",
       "\n",
       "            fig.imageObj.src = (window.URL || window.webkitURL).createObjectURL(\n",
       "                evt.data);\n",
       "            fig.updated_canvas_event();\n",
       "            fig.waiting = false;\n",
       "            return;\n",
       "        }\n",
       "        else if (typeof evt.data === 'string' && evt.data.slice(0, 21) == \"data:image/png;base64\") {\n",
       "            fig.imageObj.src = evt.data;\n",
       "            fig.updated_canvas_event();\n",
       "            fig.waiting = false;\n",
       "            return;\n",
       "        }\n",
       "\n",
       "        var msg = JSON.parse(evt.data);\n",
       "        var msg_type = msg['type'];\n",
       "\n",
       "        // Call the  \"handle_{type}\" callback, which takes\n",
       "        // the figure and JSON message as its only arguments.\n",
       "        try {\n",
       "            var callback = fig[\"handle_\" + msg_type];\n",
       "        } catch (e) {\n",
       "            console.log(\"No handler for the '\" + msg_type + \"' message type: \", msg);\n",
       "            return;\n",
       "        }\n",
       "\n",
       "        if (callback) {\n",
       "            try {\n",
       "                // console.log(\"Handling '\" + msg_type + \"' message: \", msg);\n",
       "                callback(fig, msg);\n",
       "            } catch (e) {\n",
       "                console.log(\"Exception inside the 'handler_\" + msg_type + \"' callback:\", e, e.stack, msg);\n",
       "            }\n",
       "        }\n",
       "    };\n",
       "}\n",
       "\n",
       "// from http://stackoverflow.com/questions/1114465/getting-mouse-location-in-canvas\n",
       "mpl.findpos = function(e) {\n",
       "    //this section is from http://www.quirksmode.org/js/events_properties.html\n",
       "    var targ;\n",
       "    if (!e)\n",
       "        e = window.event;\n",
       "    if (e.target)\n",
       "        targ = e.target;\n",
       "    else if (e.srcElement)\n",
       "        targ = e.srcElement;\n",
       "    if (targ.nodeType == 3) // defeat Safari bug\n",
       "        targ = targ.parentNode;\n",
       "\n",
       "    // jQuery normalizes the pageX and pageY\n",
       "    // pageX,Y are the mouse positions relative to the document\n",
       "    // offset() returns the position of the element relative to the document\n",
       "    var x = e.pageX - $(targ).offset().left;\n",
       "    var y = e.pageY - $(targ).offset().top;\n",
       "\n",
       "    return {\"x\": x, \"y\": y};\n",
       "};\n",
       "\n",
       "/*\n",
       " * return a copy of an object with only non-object keys\n",
       " * we need this to avoid circular references\n",
       " * http://stackoverflow.com/a/24161582/3208463\n",
       " */\n",
       "function simpleKeys (original) {\n",
       "  return Object.keys(original).reduce(function (obj, key) {\n",
       "    if (typeof original[key] !== 'object')\n",
       "        obj[key] = original[key]\n",
       "    return obj;\n",
       "  }, {});\n",
       "}\n",
       "\n",
       "mpl.figure.prototype.mouse_event = function(event, name) {\n",
       "    var canvas_pos = mpl.findpos(event)\n",
       "\n",
       "    if (name === 'button_press')\n",
       "    {\n",
       "        this.canvas.focus();\n",
       "        this.canvas_div.focus();\n",
       "    }\n",
       "\n",
       "    var x = canvas_pos.x * mpl.ratio;\n",
       "    var y = canvas_pos.y * mpl.ratio;\n",
       "\n",
       "    this.send_message(name, {x: x, y: y, button: event.button,\n",
       "                             step: event.step,\n",
       "                             guiEvent: simpleKeys(event)});\n",
       "\n",
       "    /* This prevents the web browser from automatically changing to\n",
       "     * the text insertion cursor when the button is pressed.  We want\n",
       "     * to control all of the cursor setting manually through the\n",
       "     * 'cursor' event from matplotlib */\n",
       "    event.preventDefault();\n",
       "    return false;\n",
       "}\n",
       "\n",
       "mpl.figure.prototype._key_event_extra = function(event, name) {\n",
       "    // Handle any extra behaviour associated with a key event\n",
       "}\n",
       "\n",
       "mpl.figure.prototype.key_event = function(event, name) {\n",
       "\n",
       "    // Prevent repeat events\n",
       "    if (name == 'key_press')\n",
       "    {\n",
       "        if (event.which === this._key)\n",
       "            return;\n",
       "        else\n",
       "            this._key = event.which;\n",
       "    }\n",
       "    if (name == 'key_release')\n",
       "        this._key = null;\n",
       "\n",
       "    var value = '';\n",
       "    if (event.ctrlKey && event.which != 17)\n",
       "        value += \"ctrl+\";\n",
       "    if (event.altKey && event.which != 18)\n",
       "        value += \"alt+\";\n",
       "    if (event.shiftKey && event.which != 16)\n",
       "        value += \"shift+\";\n",
       "\n",
       "    value += 'k';\n",
       "    value += event.which.toString();\n",
       "\n",
       "    this._key_event_extra(event, name);\n",
       "\n",
       "    this.send_message(name, {key: value,\n",
       "                             guiEvent: simpleKeys(event)});\n",
       "    return false;\n",
       "}\n",
       "\n",
       "mpl.figure.prototype.toolbar_button_onclick = function(name) {\n",
       "    if (name == 'download') {\n",
       "        this.handle_save(this, null);\n",
       "    } else {\n",
       "        this.send_message(\"toolbar_button\", {name: name});\n",
       "    }\n",
       "};\n",
       "\n",
       "mpl.figure.prototype.toolbar_button_onmouseover = function(tooltip) {\n",
       "    this.message.textContent = tooltip;\n",
       "};\n",
       "mpl.toolbar_items = [[\"Home\", \"Reset original view\", \"fa fa-home icon-home\", \"home\"], [\"Back\", \"Back to previous view\", \"fa fa-arrow-left icon-arrow-left\", \"back\"], [\"Forward\", \"Forward to next view\", \"fa fa-arrow-right icon-arrow-right\", \"forward\"], [\"\", \"\", \"\", \"\"], [\"Pan\", \"Pan axes with left mouse, zoom with right\", \"fa fa-arrows icon-move\", \"pan\"], [\"Zoom\", \"Zoom to rectangle\", \"fa fa-square-o icon-check-empty\", \"zoom\"], [\"\", \"\", \"\", \"\"], [\"Download\", \"Download plot\", \"fa fa-floppy-o icon-save\", \"download\"]];\n",
       "\n",
       "mpl.extensions = [\"eps\", \"jpeg\", \"pdf\", \"png\", \"ps\", \"raw\", \"svg\", \"tif\"];\n",
       "\n",
       "mpl.default_extension = \"png\";var comm_websocket_adapter = function(comm) {\n",
       "    // Create a \"websocket\"-like object which calls the given IPython comm\n",
       "    // object with the appropriate methods. Currently this is a non binary\n",
       "    // socket, so there is still some room for performance tuning.\n",
       "    var ws = {};\n",
       "\n",
       "    ws.close = function() {\n",
       "        comm.close()\n",
       "    };\n",
       "    ws.send = function(m) {\n",
       "        //console.log('sending', m);\n",
       "        comm.send(m);\n",
       "    };\n",
       "    // Register the callback with on_msg.\n",
       "    comm.on_msg(function(msg) {\n",
       "        //console.log('receiving', msg['content']['data'], msg);\n",
       "        // Pass the mpl event to the overridden (by mpl) onmessage function.\n",
       "        ws.onmessage(msg['content']['data'])\n",
       "    });\n",
       "    return ws;\n",
       "}\n",
       "\n",
       "mpl.mpl_figure_comm = function(comm, msg) {\n",
       "    // This is the function which gets called when the mpl process\n",
       "    // starts-up an IPython Comm through the \"matplotlib\" channel.\n",
       "\n",
       "    var id = msg.content.data.id;\n",
       "    // Get hold of the div created by the display call when the Comm\n",
       "    // socket was opened in Python.\n",
       "    var element = $(\"#\" + id);\n",
       "    var ws_proxy = comm_websocket_adapter(comm)\n",
       "\n",
       "    function ondownload(figure, format) {\n",
       "        window.open(figure.imageObj.src);\n",
       "    }\n",
       "\n",
       "    var fig = new mpl.figure(id, ws_proxy,\n",
       "                           ondownload,\n",
       "                           element.get(0));\n",
       "\n",
       "    // Call onopen now - mpl needs it, as it is assuming we've passed it a real\n",
       "    // web socket which is closed, not our websocket->open comm proxy.\n",
       "    ws_proxy.onopen();\n",
       "\n",
       "    fig.parent_element = element.get(0);\n",
       "    fig.cell_info = mpl.find_output_cell(\"<div id='\" + id + \"'></div>\");\n",
       "    if (!fig.cell_info) {\n",
       "        console.error(\"Failed to find cell for figure\", id, fig);\n",
       "        return;\n",
       "    }\n",
       "\n",
       "    var output_index = fig.cell_info[2]\n",
       "    var cell = fig.cell_info[0];\n",
       "\n",
       "};\n",
       "\n",
       "mpl.figure.prototype.handle_close = function(fig, msg) {\n",
       "    var width = fig.canvas.width/mpl.ratio\n",
       "    fig.root.unbind('remove')\n",
       "\n",
       "    // Update the output cell to use the data from the current canvas.\n",
       "    fig.push_to_output();\n",
       "    var dataURL = fig.canvas.toDataURL();\n",
       "    // Re-enable the keyboard manager in IPython - without this line, in FF,\n",
       "    // the notebook keyboard shortcuts fail.\n",
       "    IPython.keyboard_manager.enable()\n",
       "    $(fig.parent_element).html('<img src=\"' + dataURL + '\" width=\"' + width + '\">');\n",
       "    fig.close_ws(fig, msg);\n",
       "}\n",
       "\n",
       "mpl.figure.prototype.close_ws = function(fig, msg){\n",
       "    fig.send_message('closing', msg);\n",
       "    // fig.ws.close()\n",
       "}\n",
       "\n",
       "mpl.figure.prototype.push_to_output = function(remove_interactive) {\n",
       "    // Turn the data on the canvas into data in the output cell.\n",
       "    var width = this.canvas.width/mpl.ratio\n",
       "    var dataURL = this.canvas.toDataURL();\n",
       "    this.cell_info[1]['text/html'] = '<img src=\"' + dataURL + '\" width=\"' + width + '\">';\n",
       "}\n",
       "\n",
       "mpl.figure.prototype.updated_canvas_event = function() {\n",
       "    // Tell IPython that the notebook contents must change.\n",
       "    IPython.notebook.set_dirty(true);\n",
       "    this.send_message(\"ack\", {});\n",
       "    var fig = this;\n",
       "    // Wait a second, then push the new image to the DOM so\n",
       "    // that it is saved nicely (might be nice to debounce this).\n",
       "    setTimeout(function () { fig.push_to_output() }, 1000);\n",
       "}\n",
       "\n",
       "mpl.figure.prototype._init_toolbar = function() {\n",
       "    var fig = this;\n",
       "\n",
       "    var nav_element = $('<div/>');\n",
       "    nav_element.attr('style', 'width: 100%');\n",
       "    this.root.append(nav_element);\n",
       "\n",
       "    // Define a callback function for later on.\n",
       "    function toolbar_event(event) {\n",
       "        return fig.toolbar_button_onclick(event['data']);\n",
       "    }\n",
       "    function toolbar_mouse_event(event) {\n",
       "        return fig.toolbar_button_onmouseover(event['data']);\n",
       "    }\n",
       "\n",
       "    for(var toolbar_ind in mpl.toolbar_items){\n",
       "        var name = mpl.toolbar_items[toolbar_ind][0];\n",
       "        var tooltip = mpl.toolbar_items[toolbar_ind][1];\n",
       "        var image = mpl.toolbar_items[toolbar_ind][2];\n",
       "        var method_name = mpl.toolbar_items[toolbar_ind][3];\n",
       "\n",
       "        if (!name) { continue; };\n",
       "\n",
       "        var button = $('<button class=\"btn btn-default\" href=\"#\" title=\"' + name + '\"><i class=\"fa ' + image + ' fa-lg\"></i></button>');\n",
       "        button.click(method_name, toolbar_event);\n",
       "        button.mouseover(tooltip, toolbar_mouse_event);\n",
       "        nav_element.append(button);\n",
       "    }\n",
       "\n",
       "    // Add the status bar.\n",
       "    var status_bar = $('<span class=\"mpl-message\" style=\"text-align:right; float: right;\"/>');\n",
       "    nav_element.append(status_bar);\n",
       "    this.message = status_bar[0];\n",
       "\n",
       "    // Add the close button to the window.\n",
       "    var buttongrp = $('<div class=\"btn-group inline pull-right\"></div>');\n",
       "    var button = $('<button class=\"btn btn-mini btn-primary\" href=\"#\" title=\"Stop Interaction\"><i class=\"fa fa-power-off icon-remove icon-large\"></i></button>');\n",
       "    button.click(function (evt) { fig.handle_close(fig, {}); } );\n",
       "    button.mouseover('Stop Interaction', toolbar_mouse_event);\n",
       "    buttongrp.append(button);\n",
       "    var titlebar = this.root.find($('.ui-dialog-titlebar'));\n",
       "    titlebar.prepend(buttongrp);\n",
       "}\n",
       "\n",
       "mpl.figure.prototype._root_extra_style = function(el){\n",
       "    var fig = this\n",
       "    el.on(\"remove\", function(){\n",
       "\tfig.close_ws(fig, {});\n",
       "    });\n",
       "}\n",
       "\n",
       "mpl.figure.prototype._canvas_extra_style = function(el){\n",
       "    // this is important to make the div 'focusable\n",
       "    el.attr('tabindex', 0)\n",
       "    // reach out to IPython and tell the keyboard manager to turn it's self\n",
       "    // off when our div gets focus\n",
       "\n",
       "    // location in version 3\n",
       "    if (IPython.notebook.keyboard_manager) {\n",
       "        IPython.notebook.keyboard_manager.register_events(el);\n",
       "    }\n",
       "    else {\n",
       "        // location in version 2\n",
       "        IPython.keyboard_manager.register_events(el);\n",
       "    }\n",
       "\n",
       "}\n",
       "\n",
       "mpl.figure.prototype._key_event_extra = function(event, name) {\n",
       "    var manager = IPython.notebook.keyboard_manager;\n",
       "    if (!manager)\n",
       "        manager = IPython.keyboard_manager;\n",
       "\n",
       "    // Check for shift+enter\n",
       "    if (event.shiftKey && event.which == 13) {\n",
       "        this.canvas_div.blur();\n",
       "        // select the cell after this one\n",
       "        var index = IPython.notebook.find_cell_index(this.cell_info[0]);\n",
       "        IPython.notebook.select(index + 1);\n",
       "    }\n",
       "}\n",
       "\n",
       "mpl.figure.prototype.handle_save = function(fig, msg) {\n",
       "    fig.ondownload(fig, null);\n",
       "}\n",
       "\n",
       "\n",
       "mpl.find_output_cell = function(html_output) {\n",
       "    // Return the cell and output element which can be found *uniquely* in the notebook.\n",
       "    // Note - this is a bit hacky, but it is done because the \"notebook_saving.Notebook\"\n",
       "    // IPython event is triggered only after the cells have been serialised, which for\n",
       "    // our purposes (turning an active figure into a static one), is too late.\n",
       "    var cells = IPython.notebook.get_cells();\n",
       "    var ncells = cells.length;\n",
       "    for (var i=0; i<ncells; i++) {\n",
       "        var cell = cells[i];\n",
       "        if (cell.cell_type === 'code'){\n",
       "            for (var j=0; j<cell.output_area.outputs.length; j++) {\n",
       "                var data = cell.output_area.outputs[j];\n",
       "                if (data.data) {\n",
       "                    // IPython >= 3 moved mimebundle to data attribute of output\n",
       "                    data = data.data;\n",
       "                }\n",
       "                if (data['text/html'] == html_output) {\n",
       "                    return [cell, data, j];\n",
       "                }\n",
       "            }\n",
       "        }\n",
       "    }\n",
       "}\n",
       "\n",
       "// Register the function which deals with the matplotlib target/channel.\n",
       "// The kernel may be null if the page has been refreshed.\n",
       "if (IPython.notebook.kernel != null) {\n",
       "    IPython.notebook.kernel.comm_manager.register_target('matplotlib', mpl.mpl_figure_comm);\n",
       "}\n"
      ],
      "text/plain": [
       "<IPython.core.display.Javascript object>"
      ]
     },
     "metadata": {},
     "output_type": "display_data"
    },
    {
     "data": {
      "text/html": [
       "<img src=\"data:image/png;base64,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\" width=\"1600\">"
      ],
      "text/plain": [
       "<IPython.core.display.HTML object>"
      ]
     },
     "metadata": {},
     "output_type": "display_data"
    }
   ],
   "source": [
    "visualiza_features_importantes(feature_imp)"
   ]
  },
  {
   "cell_type": "markdown",
   "metadata": {},
   "source": [
    " Selecionando apenas as features com importancia acima de um determinado score."
   ]
  },
  {
   "cell_type": "code",
   "execution_count": 37,
   "metadata": {},
   "outputs": [
    {
     "name": "stdout",
     "output_type": "stream",
     "text": [
      "VisITedResources:0.17822743359843685\n",
      "raisedhands:0.15557540201317377\n",
      "StudentAbsenceDays:0.12999193047210128\n",
      "AnnouncementsView:0.11935803609827329\n",
      "Discussion:0.08992255383067431\n",
      "Relation:0.0506386071230174\n",
      "Topic:0.03900609775176092\n",
      "NationalITy:0.036199211265403125\n",
      "PlaceofBirth:0.03588422324821056\n",
      "ParentAnsweringSurvey:0.0343435755709294\n",
      "GradeID:0.03202333615322482\n"
     ]
    }
   ],
   "source": [
    "features_importancia=[]\n",
    "for features,importancia in feature_imp.iteritems():\n",
    "    if importancia>0.03:\n",
    "        print('{}:{}'.format(features,importancia))\n",
    "        features_importancia.append(features)"
   ]
  },
  {
   "cell_type": "markdown",
   "metadata": {},
   "source": [
    "#### Separando os dados em treino e teste utilizando apenas as features selecionadas"
   ]
  },
  {
   "cell_type": "code",
   "execution_count": 38,
   "metadata": {},
   "outputs": [],
   "source": [
    "X_train,X_test,y_train,y_test=train_test_split(df_edu[features_importancia],df_edu['Class'],test_size=0.3,random_state=0)"
   ]
  },
  {
   "cell_type": "markdown",
   "metadata": {},
   "source": [
    "#### Verificando a nova forma dos dados"
   ]
  },
  {
   "cell_type": "code",
   "execution_count": 40,
   "metadata": {},
   "outputs": [
    {
     "data": {
      "text/plain": [
       "((336, 11), (144, 11))"
      ]
     },
     "execution_count": 40,
     "metadata": {},
     "output_type": "execute_result"
    }
   ],
   "source": [
    "X_train.shape,X_test.shape"
   ]
  },
  {
   "cell_type": "code",
   "execution_count": 41,
   "metadata": {},
   "outputs": [
    {
     "data": {
      "text/plain": [
       "((336,), (144,))"
      ]
     },
     "execution_count": 41,
     "metadata": {},
     "output_type": "execute_result"
    }
   ],
   "source": [
    "y_train.shape,y_test.shape"
   ]
  },
  {
   "cell_type": "markdown",
   "metadata": {},
   "source": [
    "#### Instânciando o objeto classificador"
   ]
  },
  {
   "cell_type": "code",
   "execution_count": 61,
   "metadata": {},
   "outputs": [],
   "source": [
    "random_clf=RandomForestClassifier()"
   ]
  },
  {
   "cell_type": "markdown",
   "metadata": {},
   "source": [
    "#### Treinando novamente o modelo Random Forest"
   ]
  },
  {
   "cell_type": "code",
   "execution_count": 62,
   "metadata": {},
   "outputs": [
    {
     "data": {
      "text/plain": [
       "RandomForestClassifier(bootstrap=True, ccp_alpha=0.0, class_weight=None,\n",
       "                       criterion='gini', max_depth=None, max_features='auto',\n",
       "                       max_leaf_nodes=None, max_samples=None,\n",
       "                       min_impurity_decrease=0.0, min_impurity_split=None,\n",
       "                       min_samples_leaf=1, min_samples_split=2,\n",
       "                       min_weight_fraction_leaf=0.0, n_estimators=100,\n",
       "                       n_jobs=None, oob_score=False, random_state=None,\n",
       "                       verbose=0, warm_start=False)"
      ]
     },
     "execution_count": 62,
     "metadata": {},
     "output_type": "execute_result"
    }
   ],
   "source": [
    "random_clf.fit(X_train,y_train)"
   ]
  },
  {
   "cell_type": "markdown",
   "metadata": {},
   "source": [
    "#### Executando o algoritmo de arvore de decisão com o conjunto de teste"
   ]
  },
  {
   "cell_type": "code",
   "execution_count": 63,
   "metadata": {},
   "outputs": [
    {
     "data": {
      "text/plain": [
       "array([2, 1, 1, 1, 2, 2, 0, 1, 1, 1, 0, 2, 0, 1, 2, 0, 0, 1, 1, 0, 1, 0,\n",
       "       2, 2, 2, 0, 0, 2, 2, 1, 2, 1, 0, 2, 2, 2, 0, 0, 2, 2, 2, 1, 0, 0,\n",
       "       2, 2, 0, 2, 1, 2, 2, 2, 0, 1, 0, 2, 1, 1, 2, 2, 2, 2, 0, 0, 0, 2,\n",
       "       1, 2, 1, 1, 1, 1, 0, 1, 0, 1, 0, 1, 2, 1, 0, 2, 2, 1, 1, 0, 2, 0,\n",
       "       2, 0, 2, 0, 0, 0, 2, 2, 1, 0, 1, 0, 1, 2, 2, 1, 2, 0, 1, 0, 1, 2,\n",
       "       1, 1, 1, 1, 0, 2, 2, 0, 2, 0, 2, 2, 2, 2, 2, 2, 2, 2, 1, 2, 0, 1,\n",
       "       0, 2, 2, 0, 2, 2, 2, 0, 2, 2, 2, 0])"
      ]
     },
     "execution_count": 63,
     "metadata": {},
     "output_type": "execute_result"
    }
   ],
   "source": [
    "resultado=random_clf.predict(X_test)\n",
    "resultado"
   ]
  },
  {
   "cell_type": "markdown",
   "metadata": {},
   "source": [
    "#### Métricas de Validação"
   ]
  },
  {
   "cell_type": "code",
   "execution_count": 64,
   "metadata": {},
   "outputs": [
    {
     "name": "stdout",
     "output_type": "stream",
     "text": [
      "              precision    recall  f1-score   support\n",
      "\n",
      "           0       0.71      0.77      0.74        39\n",
      "           1       0.80      0.94      0.86        34\n",
      "           2       0.82      0.72      0.77        71\n",
      "\n",
      "    accuracy                           0.78       144\n",
      "   macro avg       0.78      0.81      0.79       144\n",
      "weighted avg       0.79      0.78      0.78       144\n",
      "\n"
     ]
    }
   ],
   "source": [
    "print(metrics.classification_report(y_test,resultado))"
   ]
  },
  {
   "cell_type": "markdown",
   "metadata": {},
   "source": [
    "## Explorando as árvores da Floresta gerada"
   ]
  },
  {
   "cell_type": "markdown",
   "metadata": {},
   "source": [
    "#### Selecionando uma árvore da floresta"
   ]
  },
  {
   "cell_type": "markdown",
   "metadata": {},
   "source": [
    "#### Visualizando de forma gráfica"
   ]
  },
  {
   "cell_type": "markdown",
   "metadata": {},
   "source": [
    "#### Selecionando outra árvore da floresta"
   ]
  },
  {
   "cell_type": "markdown",
   "metadata": {},
   "source": [
    "#### Visualizando de forma gráfica"
   ]
  }
 ],
 "metadata": {
  "kernelspec": {
   "display_name": "Python 3",
   "language": "python",
   "name": "python3"
  },
  "language_info": {
   "codemirror_mode": {
    "name": "ipython",
    "version": 3
   },
   "file_extension": ".py",
   "mimetype": "text/x-python",
   "name": "python",
   "nbconvert_exporter": "python",
   "pygments_lexer": "ipython3",
   "version": "3.7.6"
  }
 },
 "nbformat": 4,
 "nbformat_minor": 2
}
